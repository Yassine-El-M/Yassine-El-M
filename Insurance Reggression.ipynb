{
 "cells": [
  {
   "cell_type": "markdown",
   "metadata": {},
   "source": [
    "# Insurance Data Analysis"
   ]
  },
  {
   "cell_type": "markdown",
   "metadata": {},
   "source": [
    "## Outline\n",
    "\n",
    "+ Introduction\n",
    "\n",
    "+ Data Overview\n",
    "\n",
    "+ Exploratory Data Analysis\n",
    "\n",
    "+ Feature Engineering\n",
    "\n",
    "+ Hypothesis Testing\n",
    "\n",
    "+ Results and Conclusion"
   ]
  },
  {
   "cell_type": "markdown",
   "metadata": {},
   "source": [
    "## Introduction\n",
    "\n",
    "Insurance companies have a tough task at determining premiums for their customers. While the health care law in the United States as an example does have some rules for the companies to follow to determine premiums, it is really up to the companies on what factors they want to hold more weight to.\n",
    "\n",
    "So, what are the most important factors? how much statistical importance do they hold? and between LASSO, Ridge and Linear regression which model has the highest accuracy ?\n",
    "\n",
    "To answer this problematic there is nothing better than the most interpretable model, linear regression, but before going into modeling, we will try in this report to uncover some insights about our data using EDA and Hypothesis Testing."
   ]
  },
  {
   "cell_type": "markdown",
   "metadata": {},
   "source": [
    "## Data Overview\n",
    "\n",
    "The insurance dataset was took from [here](https://www.kaggle.com/mirichoi0218/insurance \"Kaggle\") and this is a brief description :\n",
    "\n",
    "\"Machine Learning with R by Brett Lantz is a book that provides an introduction to machine learning using R. As far as I can tell, Packt Publishing does not make its datasets available online unless you buy the book and create a user account which can be a problem if you are checking the book out from the library or borrowing the book from a friend. All of these datasets are in the public domain but simply needed some cleaning up and recoding to match the format in the book.\"\n",
    "\n",
    "#### Columns\n",
    "\n",
    "age: age of primary beneficiary\n",
    "\n",
    "sex: insurance contractor gender, female, male\n",
    "\n",
    "bmi: Body mass index, providing an understanding of body, weights that are relatively high or low relative to height,\n",
    "objective index of body weight (kg / m ^ 2) using the ratio of height to weight, ideally 18.5 to 24.9\n",
    "\n",
    "children: Number of children covered by health insurance / Number of dependents\n",
    "\n",
    "smoker: Smoking\n",
    "\n",
    "region: the beneficiary's residential area in the US, northeast, southeast, southwest, northwest.\n",
    "\n",
    "charges: Individual medical costs billed by health insurance\n",
    "\n",
    "#### Acknowledgements\n",
    "The dataset is available on GitHub [here](https://github.com/stedy/Machine-Learning-with-R-datasets. \"There are other interesting datasets too\")\n"
   ]
  },
  {
   "cell_type": "markdown",
   "metadata": {},
   "source": [
    "## Exploratory Data Analysis"
   ]
  },
  {
   "cell_type": "code",
   "execution_count": 1,
   "metadata": {},
   "outputs": [],
   "source": [
    "import pandas as pd\n",
    "import seaborn as sns\n",
    "import numpy as np\n",
    "import matplotlib.pyplot as plt\n",
    "sns.set_style('whitegrid')"
   ]
  },
  {
   "cell_type": "code",
   "execution_count": 2,
   "metadata": {},
   "outputs": [
    {
     "name": "stdout",
     "output_type": "stream",
     "text": [
      "Requirement already satisfied: wget in c:\\users\\optimist\\anaconda3\\lib\\site-packages (3.2)\n",
      "100% [..............................................................................] 54288 / 54288"
     ]
    }
   ],
   "source": [
    "!pip install wget\n",
    "import wget\n",
    "file = wget.download('https://raw.githubusercontent.com/stedy/Machine-Learning-with-R-datasets/master/insurance.csv')"
   ]
  },
  {
   "cell_type": "code",
   "execution_count": 3,
   "metadata": {},
   "outputs": [],
   "source": [
    "data = pd.read_csv(file)"
   ]
  },
  {
   "cell_type": "code",
   "execution_count": 4,
   "metadata": {},
   "outputs": [
    {
     "data": {
      "text/html": [
       "<div>\n",
       "<style scoped>\n",
       "    .dataframe tbody tr th:only-of-type {\n",
       "        vertical-align: middle;\n",
       "    }\n",
       "\n",
       "    .dataframe tbody tr th {\n",
       "        vertical-align: top;\n",
       "    }\n",
       "\n",
       "    .dataframe thead th {\n",
       "        text-align: right;\n",
       "    }\n",
       "</style>\n",
       "<table border=\"1\" class=\"dataframe\">\n",
       "  <thead>\n",
       "    <tr style=\"text-align: right;\">\n",
       "      <th></th>\n",
       "      <th>age</th>\n",
       "      <th>sex</th>\n",
       "      <th>bmi</th>\n",
       "      <th>children</th>\n",
       "      <th>smoker</th>\n",
       "      <th>region</th>\n",
       "      <th>charges</th>\n",
       "    </tr>\n",
       "  </thead>\n",
       "  <tbody>\n",
       "    <tr>\n",
       "      <th>0</th>\n",
       "      <td>19</td>\n",
       "      <td>female</td>\n",
       "      <td>27.900</td>\n",
       "      <td>0</td>\n",
       "      <td>yes</td>\n",
       "      <td>southwest</td>\n",
       "      <td>16884.92400</td>\n",
       "    </tr>\n",
       "    <tr>\n",
       "      <th>1</th>\n",
       "      <td>18</td>\n",
       "      <td>male</td>\n",
       "      <td>33.770</td>\n",
       "      <td>1</td>\n",
       "      <td>no</td>\n",
       "      <td>southeast</td>\n",
       "      <td>1725.55230</td>\n",
       "    </tr>\n",
       "    <tr>\n",
       "      <th>2</th>\n",
       "      <td>28</td>\n",
       "      <td>male</td>\n",
       "      <td>33.000</td>\n",
       "      <td>3</td>\n",
       "      <td>no</td>\n",
       "      <td>southeast</td>\n",
       "      <td>4449.46200</td>\n",
       "    </tr>\n",
       "    <tr>\n",
       "      <th>3</th>\n",
       "      <td>33</td>\n",
       "      <td>male</td>\n",
       "      <td>22.705</td>\n",
       "      <td>0</td>\n",
       "      <td>no</td>\n",
       "      <td>northwest</td>\n",
       "      <td>21984.47061</td>\n",
       "    </tr>\n",
       "    <tr>\n",
       "      <th>4</th>\n",
       "      <td>32</td>\n",
       "      <td>male</td>\n",
       "      <td>28.880</td>\n",
       "      <td>0</td>\n",
       "      <td>no</td>\n",
       "      <td>northwest</td>\n",
       "      <td>3866.85520</td>\n",
       "    </tr>\n",
       "  </tbody>\n",
       "</table>\n",
       "</div>"
      ],
      "text/plain": [
       "   age     sex     bmi  children smoker     region      charges\n",
       "0   19  female  27.900         0    yes  southwest  16884.92400\n",
       "1   18    male  33.770         1     no  southeast   1725.55230\n",
       "2   28    male  33.000         3     no  southeast   4449.46200\n",
       "3   33    male  22.705         0     no  northwest  21984.47061\n",
       "4   32    male  28.880         0     no  northwest   3866.85520"
      ]
     },
     "execution_count": 4,
     "metadata": {},
     "output_type": "execute_result"
    }
   ],
   "source": [
    "data.head()"
   ]
  },
  {
   "cell_type": "code",
   "execution_count": 5,
   "metadata": {},
   "outputs": [
    {
     "data": {
      "text/html": [
       "<div>\n",
       "<style scoped>\n",
       "    .dataframe tbody tr th:only-of-type {\n",
       "        vertical-align: middle;\n",
       "    }\n",
       "\n",
       "    .dataframe tbody tr th {\n",
       "        vertical-align: top;\n",
       "    }\n",
       "\n",
       "    .dataframe thead th {\n",
       "        text-align: right;\n",
       "    }\n",
       "</style>\n",
       "<table border=\"1\" class=\"dataframe\">\n",
       "  <thead>\n",
       "    <tr style=\"text-align: right;\">\n",
       "      <th></th>\n",
       "      <th>age</th>\n",
       "      <th>bmi</th>\n",
       "      <th>children</th>\n",
       "      <th>charges</th>\n",
       "    </tr>\n",
       "  </thead>\n",
       "  <tbody>\n",
       "    <tr>\n",
       "      <th>count</th>\n",
       "      <td>1338.000000</td>\n",
       "      <td>1338.000000</td>\n",
       "      <td>1338.000000</td>\n",
       "      <td>1338.000000</td>\n",
       "    </tr>\n",
       "    <tr>\n",
       "      <th>mean</th>\n",
       "      <td>39.207025</td>\n",
       "      <td>30.663397</td>\n",
       "      <td>1.094918</td>\n",
       "      <td>13270.422265</td>\n",
       "    </tr>\n",
       "    <tr>\n",
       "      <th>std</th>\n",
       "      <td>14.049960</td>\n",
       "      <td>6.098187</td>\n",
       "      <td>1.205493</td>\n",
       "      <td>12110.011237</td>\n",
       "    </tr>\n",
       "    <tr>\n",
       "      <th>min</th>\n",
       "      <td>18.000000</td>\n",
       "      <td>15.960000</td>\n",
       "      <td>0.000000</td>\n",
       "      <td>1121.873900</td>\n",
       "    </tr>\n",
       "    <tr>\n",
       "      <th>25%</th>\n",
       "      <td>27.000000</td>\n",
       "      <td>26.296250</td>\n",
       "      <td>0.000000</td>\n",
       "      <td>4740.287150</td>\n",
       "    </tr>\n",
       "    <tr>\n",
       "      <th>50%</th>\n",
       "      <td>39.000000</td>\n",
       "      <td>30.400000</td>\n",
       "      <td>1.000000</td>\n",
       "      <td>9382.033000</td>\n",
       "    </tr>\n",
       "    <tr>\n",
       "      <th>75%</th>\n",
       "      <td>51.000000</td>\n",
       "      <td>34.693750</td>\n",
       "      <td>2.000000</td>\n",
       "      <td>16639.912515</td>\n",
       "    </tr>\n",
       "    <tr>\n",
       "      <th>max</th>\n",
       "      <td>64.000000</td>\n",
       "      <td>53.130000</td>\n",
       "      <td>5.000000</td>\n",
       "      <td>63770.428010</td>\n",
       "    </tr>\n",
       "  </tbody>\n",
       "</table>\n",
       "</div>"
      ],
      "text/plain": [
       "               age          bmi     children       charges\n",
       "count  1338.000000  1338.000000  1338.000000   1338.000000\n",
       "mean     39.207025    30.663397     1.094918  13270.422265\n",
       "std      14.049960     6.098187     1.205493  12110.011237\n",
       "min      18.000000    15.960000     0.000000   1121.873900\n",
       "25%      27.000000    26.296250     0.000000   4740.287150\n",
       "50%      39.000000    30.400000     1.000000   9382.033000\n",
       "75%      51.000000    34.693750     2.000000  16639.912515\n",
       "max      64.000000    53.130000     5.000000  63770.428010"
      ]
     },
     "execution_count": 5,
     "metadata": {},
     "output_type": "execute_result"
    }
   ],
   "source": [
    "data.describe()"
   ]
  },
  {
   "cell_type": "code",
   "execution_count": 6,
   "metadata": {},
   "outputs": [
    {
     "name": "stdout",
     "output_type": "stream",
     "text": [
      "<class 'pandas.core.frame.DataFrame'>\n",
      "RangeIndex: 1338 entries, 0 to 1337\n",
      "Data columns (total 7 columns):\n",
      " #   Column    Non-Null Count  Dtype  \n",
      "---  ------    --------------  -----  \n",
      " 0   age       1338 non-null   int64  \n",
      " 1   sex       1338 non-null   object \n",
      " 2   bmi       1338 non-null   float64\n",
      " 3   children  1338 non-null   int64  \n",
      " 4   smoker    1338 non-null   object \n",
      " 5   region    1338 non-null   object \n",
      " 6   charges   1338 non-null   float64\n",
      "dtypes: float64(2), int64(2), object(3)\n",
      "memory usage: 73.3+ KB\n"
     ]
    }
   ],
   "source": [
    "data.info()"
   ]
  },
  {
   "cell_type": "code",
   "execution_count": 7,
   "metadata": {},
   "outputs": [
    {
     "data": {
      "text/plain": [
       "Text(0.5, 1.0, 'Charges Boxplot')"
      ]
     },
     "execution_count": 7,
     "metadata": {},
     "output_type": "execute_result"
    },
    {
     "data": {
      "image/png": "[encoded data removed]",
      "text/plain": [
       "<Figure size 432x288 with 1 Axes>"
      ]
     },
     "metadata": {},
     "output_type": "display_data"
    }
   ],
   "source": [
    "ax = sns.boxplot(data = data['charges'], orient = 'Vertical')\n",
    "ax.set_ylabel('Charges')\n",
    "ax.set_title('Charges Boxplot')"
   ]
  },
  {
   "cell_type": "markdown",
   "metadata": {},
   "source": [
    "At first glance, it seems that the charges column has many outliers, before dealing with them we'll check the charges by smoking status"
   ]
  },
  {
   "cell_type": "code",
   "execution_count": 8,
   "metadata": {
    "scrolled": true
   },
   "outputs": [
    {
     "data": {
      "text/plain": [
       "Text(0.5, 1.0, 'Charges Boxplot by smoking status')"
      ]
     },
     "execution_count": 8,
     "metadata": {},
     "output_type": "execute_result"
    },
    {
     "data": {
      "image/png": "[encoded data removed]",
      "text/plain": [
       "<Figure size 432x288 with 1 Axes>"
      ]
     },
     "metadata": {},
     "output_type": "display_data"
    }
   ],
   "source": [
    "ax = sns.boxplot(x='smoker', y='charges', data=data)\n",
    "ax.set_title('Charges Boxplot by smoking status')"
   ]
  },
  {
   "cell_type": "markdown",
   "metadata": {},
   "source": [
    "Now that huge amount of outliers seems be justified, since smokers are subjects to greater risk, which should be reflected in the amount of charges billed to them by the insurance firm."
   ]
  },
  {
   "cell_type": "code",
   "execution_count": 9,
   "metadata": {},
   "outputs": [
    {
     "data": {
      "text/plain": [
       "Text(0.5, 1.0, 'Charges Boxplot by smoking status')"
      ]
     },
     "execution_count": 9,
     "metadata": {},
     "output_type": "execute_result"
    },
    {
     "data": {
      "image/png": "[encoded data removed]",
      "text/plain": [
       "<Figure size 432x288 with 1 Axes>"
      ]
     },
     "metadata": {},
     "output_type": "display_data"
    }
   ],
   "source": [
    "ax = sns.boxplot(x='smoker', y='charges', data=data)\n",
    "ax.set_title('Charges Boxplot by smoking status')"
   ]
  },
  {
   "cell_type": "markdown",
   "metadata": {},
   "source": [
    "Let's explore our data in more detail."
   ]
  },
  {
   "cell_type": "code",
   "execution_count": 10,
   "metadata": {},
   "outputs": [
    {
     "data": {
      "text/plain": [
       "Text(0.5, 1.0, 'Number of children by gender')"
      ]
     },
     "execution_count": 10,
     "metadata": {},
     "output_type": "execute_result"
    },
    {
     "data": {
      "image/png": "[encoded data removed]",
      "text/plain": [
       "<Figure size 432x288 with 1 Axes>"
      ]
     },
     "metadata": {},
     "output_type": "display_data"
    }
   ],
   "source": [
    "ax =sns.countplot(x = 'children', hue='sex', data=data)\n",
    "for rect in ax.patches:\n",
    "    ax.text (rect.get_x() + rect.get_width()  / 2,rect.get_height()+ 0.75,rect.get_height(),horizontalalignment='center', fontsize = 11)\n",
    "ax.set_title('Number of children by gender')"
   ]
  },
  {
   "cell_type": "code",
   "execution_count": 11,
   "metadata": {},
   "outputs": [
    {
     "data": {
      "text/plain": [
       "Text(0.5, 1.0, 'Smoking status by gender')"
      ]
     },
     "execution_count": 11,
     "metadata": {},
     "output_type": "execute_result"
    },
    {
     "data": {
      "image/png": "[encoded data removed]",
      "text/plain": [
       "<Figure size 432x288 with 1 Axes>"
      ]
     },
     "metadata": {},
     "output_type": "display_data"
    }
   ],
   "source": [
    "ax =sns.countplot(x = 'sex', hue='smoker', data=data)\n",
    "for rect in ax.patches:\n",
    "    ax.text (rect.get_x() + rect.get_width()  / 2,rect.get_height()+ 0.75,rect.get_height(),horizontalalignment='center', fontsize = 11)\n",
    "ax.set_title('Smoking status by gender')"
   ]
  },
  {
   "cell_type": "code",
   "execution_count": 12,
   "metadata": {},
   "outputs": [
    {
     "data": {
      "text/plain": [
       "Text(0.5, 1.0, 'Insurance by region')"
      ]
     },
     "execution_count": 12,
     "metadata": {},
     "output_type": "execute_result"
    },
    {
     "data": {
      "image/png": "[encoded data removed]",
      "text/plain": [
       "<Figure size 432x288 with 1 Axes>"
      ]
     },
     "metadata": {},
     "output_type": "display_data"
    }
   ],
   "source": [
    "ax =sns.countplot(x = 'region', data=data)\n",
    "for rect in ax.patches:\n",
    "    ax.text (rect.get_x() + rect.get_width()  / 2,rect.get_height()+ 0.75,rect.get_height(),horizontalalignment='center', fontsize = 11)\n",
    "ax.set_title('Insurance by region')"
   ]
  },
  {
   "cell_type": "code",
   "execution_count": 13,
   "metadata": {},
   "outputs": [
    {
     "data": {
      "text/plain": [
       "Text(0.5, 1.0, 'Insurance destribution by age')"
      ]
     },
     "execution_count": 13,
     "metadata": {},
     "output_type": "execute_result"
    },
    {
     "data": {
      "image/png": "[encoded data removed]",
      "text/plain": [
       "<Figure size 432x288 with 1 Axes>"
      ]
     },
     "metadata": {},
     "output_type": "display_data"
    }
   ],
   "source": [
    "ax = sns.histplot(data['age'], kde = False)\n",
    "for rect in ax.patches:\n",
    "    ax.text (rect.get_x() + rect.get_width()  / 2,rect.get_height()+ 0.75,rect.get_height(),horizontalalignment='center', fontsize = 11)\n",
    "ax.set_title('Insurance destribution by age')"
   ]
  },
  {
   "cell_type": "code",
   "execution_count": 14,
   "metadata": {},
   "outputs": [
    {
     "data": {
      "text/plain": [
       "Text(0.5, 1.0, 'Charges destribution')"
      ]
     },
     "execution_count": 14,
     "metadata": {},
     "output_type": "execute_result"
    },
    {
     "data": {
      "image/png": "[encoded data removed]",
      "text/plain": [
       "<Figure size 720x504 with 1 Axes>"
      ]
     },
     "metadata": {},
     "output_type": "display_data"
    }
   ],
   "source": [
    "plt.subplots(figsize = (10,7))\n",
    "ax = sns.histplot(data['charges'], kde = False)\n",
    "for rect in ax.patches:\n",
    "    ax.text (rect.get_x() + rect.get_width()  / 2,rect.get_height()+ 0.75,rect.get_height(),horizontalalignment='center', fontsize = 11)\n",
    "ax.set_title('Charges destribution')"
   ]
  },
  {
   "cell_type": "code",
   "execution_count": 15,
   "metadata": {},
   "outputs": [
    {
     "name": "stdout",
     "output_type": "stream",
     "text": [
      "stat=0.815, p=0.000\n",
      "Probably not Gaussian\n"
     ]
    }
   ],
   "source": [
    "from scipy.stats import shapiro\n",
    "stat, p = shapiro(data['charges'])\n",
    "print('stat=%.3f, p=%.3f' % (stat, p))\n",
    "if p > 0.05:\n",
    "\tprint('Probably Gaussian')\n",
    "else:\n",
    "\tprint('Probably not Gaussian')"
   ]
  },
  {
   "cell_type": "code",
   "execution_count": 16,
   "metadata": {},
   "outputs": [
    {
     "data": {
      "text/plain": [
       "Text(0.5, 1.0, 'Charges destribution')"
      ]
     },
     "execution_count": 16,
     "metadata": {},
     "output_type": "execute_result"
    },
    {
     "data": {
      "image/png": "[encoded data removed]",
      "text/plain": [
       "<Figure size 720x504 with 1 Axes>"
      ]
     },
     "metadata": {},
     "output_type": "display_data"
    }
   ],
   "source": [
    "plt.subplots(figsize = (10,7))\n",
    "ax = sns.histplot(np.log(data['charges']), kde = False)\n",
    "for rect in ax.patches:\n",
    "    ax.text (rect.get_x() + rect.get_width()  / 2,rect.get_height()+ 0.75,rect.get_height(),horizontalalignment='center', fontsize = 11)\n",
    "ax.set_title('Charges destribution')"
   ]
  },
  {
   "cell_type": "code",
   "execution_count": 17,
   "metadata": {},
   "outputs": [
    {
     "name": "stdout",
     "output_type": "stream",
     "text": [
      "stat=0.983, p=0.000\n",
      "Probably not Gaussian\n"
     ]
    }
   ],
   "source": [
    "from scipy.stats import shapiro\n",
    "stat, p = shapiro(np.log(data['charges']))\n",
    "print('stat=%.3f, p=%.3f' % (stat, p))\n",
    "if p > 0.05:\n",
    "\tprint('Probably Gaussian')\n",
    "else:\n",
    "\tprint('Probably not Gaussian')"
   ]
  },
  {
   "cell_type": "markdown",
   "metadata": {},
   "source": [
    "## Feature Engineering\n",
    "\n",
    "In this section we will:\n",
    "+ Label some features and prepare them for modeling.\n",
    "+ Discretize the BMI variable and uncover some insights about it. \n",
    "+ Transform the BMI distribution to Gaussian."
   ]
  },
  {
   "cell_type": "code",
   "execution_count": 18,
   "metadata": {},
   "outputs": [
    {
     "data": {
      "text/html": [
       "<div>\n",
       "<style scoped>\n",
       "    .dataframe tbody tr th:only-of-type {\n",
       "        vertical-align: middle;\n",
       "    }\n",
       "\n",
       "    .dataframe tbody tr th {\n",
       "        vertical-align: top;\n",
       "    }\n",
       "\n",
       "    .dataframe thead th {\n",
       "        text-align: right;\n",
       "    }\n",
       "</style>\n",
       "<table border=\"1\" class=\"dataframe\">\n",
       "  <thead>\n",
       "    <tr style=\"text-align: right;\">\n",
       "      <th></th>\n",
       "      <th>age</th>\n",
       "      <th>sex</th>\n",
       "      <th>bmi</th>\n",
       "      <th>children</th>\n",
       "      <th>smoker</th>\n",
       "      <th>region</th>\n",
       "      <th>charges</th>\n",
       "    </tr>\n",
       "  </thead>\n",
       "  <tbody>\n",
       "    <tr>\n",
       "      <th>0</th>\n",
       "      <td>19</td>\n",
       "      <td>female</td>\n",
       "      <td>27.900</td>\n",
       "      <td>0</td>\n",
       "      <td>yes</td>\n",
       "      <td>southwest</td>\n",
       "      <td>16884.92400</td>\n",
       "    </tr>\n",
       "    <tr>\n",
       "      <th>1</th>\n",
       "      <td>18</td>\n",
       "      <td>male</td>\n",
       "      <td>33.770</td>\n",
       "      <td>1</td>\n",
       "      <td>no</td>\n",
       "      <td>southeast</td>\n",
       "      <td>1725.55230</td>\n",
       "    </tr>\n",
       "    <tr>\n",
       "      <th>2</th>\n",
       "      <td>28</td>\n",
       "      <td>male</td>\n",
       "      <td>33.000</td>\n",
       "      <td>3</td>\n",
       "      <td>no</td>\n",
       "      <td>southeast</td>\n",
       "      <td>4449.46200</td>\n",
       "    </tr>\n",
       "    <tr>\n",
       "      <th>3</th>\n",
       "      <td>33</td>\n",
       "      <td>male</td>\n",
       "      <td>22.705</td>\n",
       "      <td>0</td>\n",
       "      <td>no</td>\n",
       "      <td>northwest</td>\n",
       "      <td>21984.47061</td>\n",
       "    </tr>\n",
       "    <tr>\n",
       "      <th>4</th>\n",
       "      <td>32</td>\n",
       "      <td>male</td>\n",
       "      <td>28.880</td>\n",
       "      <td>0</td>\n",
       "      <td>no</td>\n",
       "      <td>northwest</td>\n",
       "      <td>3866.85520</td>\n",
       "    </tr>\n",
       "  </tbody>\n",
       "</table>\n",
       "</div>"
      ],
      "text/plain": [
       "   age     sex     bmi  children smoker     region      charges\n",
       "0   19  female  27.900         0    yes  southwest  16884.92400\n",
       "1   18    male  33.770         1     no  southeast   1725.55230\n",
       "2   28    male  33.000         3     no  southeast   4449.46200\n",
       "3   33    male  22.705         0     no  northwest  21984.47061\n",
       "4   32    male  28.880         0     no  northwest   3866.85520"
      ]
     },
     "execution_count": 18,
     "metadata": {},
     "output_type": "execute_result"
    }
   ],
   "source": [
    "data.head()"
   ]
  },
  {
   "cell_type": "code",
   "execution_count": 19,
   "metadata": {},
   "outputs": [
    {
     "data": {
      "text/html": [
       "<div>\n",
       "<style scoped>\n",
       "    .dataframe tbody tr th:only-of-type {\n",
       "        vertical-align: middle;\n",
       "    }\n",
       "\n",
       "    .dataframe tbody tr th {\n",
       "        vertical-align: top;\n",
       "    }\n",
       "\n",
       "    .dataframe thead th {\n",
       "        text-align: right;\n",
       "    }\n",
       "</style>\n",
       "<table border=\"1\" class=\"dataframe\">\n",
       "  <thead>\n",
       "    <tr style=\"text-align: right;\">\n",
       "      <th></th>\n",
       "      <th>age</th>\n",
       "      <th>sex</th>\n",
       "      <th>bmi</th>\n",
       "      <th>children</th>\n",
       "      <th>smoker</th>\n",
       "      <th>region</th>\n",
       "      <th>charges</th>\n",
       "    </tr>\n",
       "  </thead>\n",
       "  <tbody>\n",
       "    <tr>\n",
       "      <th>0</th>\n",
       "      <td>19</td>\n",
       "      <td>female</td>\n",
       "      <td>27.900</td>\n",
       "      <td>0</td>\n",
       "      <td>1</td>\n",
       "      <td>southwest</td>\n",
       "      <td>16884.92400</td>\n",
       "    </tr>\n",
       "    <tr>\n",
       "      <th>1</th>\n",
       "      <td>18</td>\n",
       "      <td>male</td>\n",
       "      <td>33.770</td>\n",
       "      <td>1</td>\n",
       "      <td>0</td>\n",
       "      <td>southeast</td>\n",
       "      <td>1725.55230</td>\n",
       "    </tr>\n",
       "    <tr>\n",
       "      <th>2</th>\n",
       "      <td>28</td>\n",
       "      <td>male</td>\n",
       "      <td>33.000</td>\n",
       "      <td>3</td>\n",
       "      <td>0</td>\n",
       "      <td>southeast</td>\n",
       "      <td>4449.46200</td>\n",
       "    </tr>\n",
       "    <tr>\n",
       "      <th>3</th>\n",
       "      <td>33</td>\n",
       "      <td>male</td>\n",
       "      <td>22.705</td>\n",
       "      <td>0</td>\n",
       "      <td>0</td>\n",
       "      <td>northwest</td>\n",
       "      <td>21984.47061</td>\n",
       "    </tr>\n",
       "    <tr>\n",
       "      <th>4</th>\n",
       "      <td>32</td>\n",
       "      <td>male</td>\n",
       "      <td>28.880</td>\n",
       "      <td>0</td>\n",
       "      <td>0</td>\n",
       "      <td>northwest</td>\n",
       "      <td>3866.85520</td>\n",
       "    </tr>\n",
       "  </tbody>\n",
       "</table>\n",
       "</div>"
      ],
      "text/plain": [
       "   age     sex     bmi  children  smoker     region      charges\n",
       "0   19  female  27.900         0       1  southwest  16884.92400\n",
       "1   18    male  33.770         1       0  southeast   1725.55230\n",
       "2   28    male  33.000         3       0  southeast   4449.46200\n",
       "3   33    male  22.705         0       0  northwest  21984.47061\n",
       "4   32    male  28.880         0       0  northwest   3866.85520"
      ]
     },
     "execution_count": 19,
     "metadata": {},
     "output_type": "execute_result"
    }
   ],
   "source": [
    "data['smoker'].replace(to_replace=['no','yes'], value=[0,1],inplace=True)\n",
    "data.head()"
   ]
  },
  {
   "cell_type": "markdown",
   "metadata": {},
   "source": [
    "#### According to the CDC (Centers of Desease Control and Prevention), adults BMI is related to their weight status as follows:\n",
    "\n",
    "BMI | Weight Status\n",
    ":---: | :---:\n",
    "Below 18.5 | Underweight\n",
    "18.5 – 24.9 | Healthy Weight\n",
    "25.0 – 29.9 | Overweight\n",
    "30.0 and Above | Obesity"
   ]
  },
  {
   "cell_type": "code",
   "execution_count": 20,
   "metadata": {},
   "outputs": [
    {
     "data": {
      "text/html": [
       "<html><head><style>h3 {text-align: center;} <div style=\"text-align:center;\"> </style></head><body> <h3>BMI For Adults Widget</h3><br /><br /><div class=\"iframe-container\"><iframe src=\"https://www.cdc.gov/healthyweight/assessing/adult-widget/iframe.html\" width=170 height=395></iframe></div><style>.iframe-container {text-align:center}</style>"
      ],
      "text/plain": [
       "<IPython.core.display.HTML object>"
      ]
     },
     "execution_count": 20,
     "metadata": {},
     "output_type": "execute_result"
    }
   ],
   "source": [
    "from IPython.display import HTML\n",
    "HTML('<html><head><style>h3 {text-align: center;} <div style=\"text-align:center;\"> </style></head><body> <h3>BMI For Adults Widget</h3><br /><br /><div class=\"iframe-container\"><iframe src=\"https://www.cdc.gov/healthyweight/assessing/adult-widget/iframe.html\" width=170 height=395></iframe></div><style>.iframe-container {text-align:center}</style>')"
   ]
  },
  {
   "cell_type": "code",
   "execution_count": 21,
   "metadata": {},
   "outputs": [
    {
     "data": {
      "text/html": [
       "<div>\n",
       "<style scoped>\n",
       "    .dataframe tbody tr th:only-of-type {\n",
       "        vertical-align: middle;\n",
       "    }\n",
       "\n",
       "    .dataframe tbody tr th {\n",
       "        vertical-align: top;\n",
       "    }\n",
       "\n",
       "    .dataframe thead th {\n",
       "        text-align: right;\n",
       "    }\n",
       "</style>\n",
       "<table border=\"1\" class=\"dataframe\">\n",
       "  <thead>\n",
       "    <tr style=\"text-align: right;\">\n",
       "      <th></th>\n",
       "      <th>age</th>\n",
       "      <th>sex</th>\n",
       "      <th>bmi</th>\n",
       "      <th>children</th>\n",
       "      <th>smoker</th>\n",
       "      <th>region</th>\n",
       "      <th>charges</th>\n",
       "      <th>bmi_group</th>\n",
       "    </tr>\n",
       "  </thead>\n",
       "  <tbody>\n",
       "    <tr>\n",
       "      <th>0</th>\n",
       "      <td>19</td>\n",
       "      <td>female</td>\n",
       "      <td>27.900</td>\n",
       "      <td>0</td>\n",
       "      <td>1</td>\n",
       "      <td>southwest</td>\n",
       "      <td>16884.92400</td>\n",
       "      <td>Overweight</td>\n",
       "    </tr>\n",
       "    <tr>\n",
       "      <th>1</th>\n",
       "      <td>18</td>\n",
       "      <td>male</td>\n",
       "      <td>33.770</td>\n",
       "      <td>1</td>\n",
       "      <td>0</td>\n",
       "      <td>southeast</td>\n",
       "      <td>1725.55230</td>\n",
       "      <td>Obesity</td>\n",
       "    </tr>\n",
       "    <tr>\n",
       "      <th>2</th>\n",
       "      <td>28</td>\n",
       "      <td>male</td>\n",
       "      <td>33.000</td>\n",
       "      <td>3</td>\n",
       "      <td>0</td>\n",
       "      <td>southeast</td>\n",
       "      <td>4449.46200</td>\n",
       "      <td>Obesity</td>\n",
       "    </tr>\n",
       "    <tr>\n",
       "      <th>3</th>\n",
       "      <td>33</td>\n",
       "      <td>male</td>\n",
       "      <td>22.705</td>\n",
       "      <td>0</td>\n",
       "      <td>0</td>\n",
       "      <td>northwest</td>\n",
       "      <td>21984.47061</td>\n",
       "      <td>Healthy Weight</td>\n",
       "    </tr>\n",
       "    <tr>\n",
       "      <th>4</th>\n",
       "      <td>32</td>\n",
       "      <td>male</td>\n",
       "      <td>28.880</td>\n",
       "      <td>0</td>\n",
       "      <td>0</td>\n",
       "      <td>northwest</td>\n",
       "      <td>3866.85520</td>\n",
       "      <td>Overweight</td>\n",
       "    </tr>\n",
       "  </tbody>\n",
       "</table>\n",
       "</div>"
      ],
      "text/plain": [
       "   age     sex     bmi  children  smoker     region      charges  \\\n",
       "0   19  female  27.900         0       1  southwest  16884.92400   \n",
       "1   18    male  33.770         1       0  southeast   1725.55230   \n",
       "2   28    male  33.000         3       0  southeast   4449.46200   \n",
       "3   33    male  22.705         0       0  northwest  21984.47061   \n",
       "4   32    male  28.880         0       0  northwest   3866.85520   \n",
       "\n",
       "        bmi_group  \n",
       "0      Overweight  \n",
       "1         Obesity  \n",
       "2         Obesity  \n",
       "3  Healthy Weight  \n",
       "4      Overweight  "
      ]
     },
     "execution_count": 21,
     "metadata": {},
     "output_type": "execute_result"
    }
   ],
   "source": [
    "data.loc[(data['bmi'] < 18.5 ), 'bmi_group'] = 'Underweight'\n",
    "data.loc[(data['bmi'] >= 18.5)&(data['bmi'] < 25), 'bmi_group' ] = 'Healthy Weight'\n",
    "data.loc[(data['bmi'] >= 25)&(data['bmi'] < 30), 'bmi_group'] = 'Overweight'\n",
    "data.loc[(data['bmi'] >= 30), 'bmi_group'] = 'Obesity'\n",
    "data.head()"
   ]
  },
  {
   "cell_type": "code",
   "execution_count": 22,
   "metadata": {
    "scrolled": true
   },
   "outputs": [
    {
     "data": {
      "text/plain": [
       "Text(0.5, 1.0, 'Charges Boxplot by smoking status')"
      ]
     },
     "execution_count": 22,
     "metadata": {},
     "output_type": "execute_result"
    },
    {
     "data": {
      "image/png": "[encoded data removed]",
      "text/plain": [
       "<Figure size 432x288 with 1 Axes>"
      ]
     },
     "metadata": {},
     "output_type": "display_data"
    }
   ],
   "source": [
    "ax = sns.boxplot(x='bmi_group', y='charges', data=data)\n",
    "ax.set_title('Charges Boxplot by smoking status')"
   ]
  },
  {
   "cell_type": "code",
   "execution_count": 23,
   "metadata": {},
   "outputs": [
    {
     "data": {
      "text/html": [
       "<div>\n",
       "<style scoped>\n",
       "    .dataframe tbody tr th:only-of-type {\n",
       "        vertical-align: middle;\n",
       "    }\n",
       "\n",
       "    .dataframe tbody tr th {\n",
       "        vertical-align: top;\n",
       "    }\n",
       "\n",
       "    .dataframe thead th {\n",
       "        text-align: right;\n",
       "    }\n",
       "</style>\n",
       "<table border=\"1\" class=\"dataframe\">\n",
       "  <thead>\n",
       "    <tr style=\"text-align: right;\">\n",
       "      <th></th>\n",
       "      <th>charges</th>\n",
       "    </tr>\n",
       "    <tr>\n",
       "      <th>bmi_group</th>\n",
       "      <th></th>\n",
       "    </tr>\n",
       "  </thead>\n",
       "  <tbody>\n",
       "    <tr>\n",
       "      <th>Underweight</th>\n",
       "      <td>8852.200585</td>\n",
       "    </tr>\n",
       "    <tr>\n",
       "      <th>Healthy Weight</th>\n",
       "      <td>10409.337709</td>\n",
       "    </tr>\n",
       "    <tr>\n",
       "      <th>Overweight</th>\n",
       "      <td>10987.509891</td>\n",
       "    </tr>\n",
       "    <tr>\n",
       "      <th>Obesity</th>\n",
       "      <td>15552.335469</td>\n",
       "    </tr>\n",
       "  </tbody>\n",
       "</table>\n",
       "</div>"
      ],
      "text/plain": [
       "                     charges\n",
       "bmi_group                   \n",
       "Underweight      8852.200585\n",
       "Healthy Weight  10409.337709\n",
       "Overweight      10987.509891\n",
       "Obesity         15552.335469"
      ]
     },
     "execution_count": 23,
     "metadata": {},
     "output_type": "execute_result"
    }
   ],
   "source": [
    "mean = data.groupby('bmi_group')['charges'].mean()\n",
    "mean = mean.to_frame()\n",
    "mean = mean.sort_values(by='charges')\n",
    "mean"
   ]
  },
  {
   "cell_type": "code",
   "execution_count": 24,
   "metadata": {},
   "outputs": [
    {
     "data": {
      "text/plain": [
       "[<matplotlib.lines.Line2D at 0x19b61947af0>]"
      ]
     },
     "execution_count": 24,
     "metadata": {},
     "output_type": "execute_result"
    },
    {
     "data": {
      "image/png": "[encoded data removed]",
      "text/plain": [
       "<Figure size 432x288 with 1 Axes>"
      ]
     },
     "metadata": {},
     "output_type": "display_data"
    }
   ],
   "source": [
    "plt.plot(mean, 'o', linestyle='-')"
   ]
  },
  {
   "cell_type": "markdown",
   "metadata": {},
   "source": [
    "#### We can see that the mean of the charges is correlated positively with the BMI categories"
   ]
  },
  {
   "cell_type": "code",
   "execution_count": 25,
   "metadata": {
    "scrolled": true
   },
   "outputs": [
    {
     "data": {
      "text/plain": [
       "Text(0.5, 1.0, 'BMI distribution')"
      ]
     },
     "execution_count": 25,
     "metadata": {},
     "output_type": "execute_result"
    },
    {
     "data": {
      "image/png": "[encoded data removed]",
      "text/plain": [
       "<Figure size 432x288 with 1 Axes>"
      ]
     },
     "metadata": {},
     "output_type": "display_data"
    }
   ],
   "source": [
    "ax = sns.histplot(data['bmi'], kde = True)\n",
    "ax.set_title('BMI distribution')"
   ]
  },
  {
   "cell_type": "markdown",
   "metadata": {},
   "source": [
    "**Visually we can see that the dansity function curve is chaped like a bell, is it enough to assume that the distribution is normal ?**\n",
    "\n",
    "**Let's perform Shapiro-Wilk Normality test**"
   ]
  },
  {
   "cell_type": "markdown",
   "metadata": {},
   "source": [
    "### Shapiro-Wilk Normality Test\n",
    "\n",
    "Let's test whether the BMI has a Gaussian distribution.\n",
    "\n",
    "Here are the hypothesis.\n",
    "\n",
    "**H0: the sample has a Gaussian distribution.**\n",
    "\n",
    "**H1: the sample does not have a Gaussian distribution.**"
   ]
  },
  {
   "cell_type": "code",
   "execution_count": 26,
   "metadata": {},
   "outputs": [
    {
     "name": "stdout",
     "output_type": "stream",
     "text": [
      "stat=0.994, p=0.000\n",
      "Probably not Gaussian\n"
     ]
    }
   ],
   "source": [
    "from scipy.stats import shapiro\n",
    "stat, p = shapiro(data['bmi'])\n",
    "print('stat=%.3f, p=%.3f' % (stat, p))\n",
    "if p > 0.05:\n",
    "\tprint('Probably Gaussian')\n",
    "else:\n",
    "\tprint('Probably not Gaussian')"
   ]
  },
  {
   "cell_type": "markdown",
   "metadata": {},
   "source": [
    "**Even though we got a bell shaped density function plot, statistically we can't assume that it has a normal distribution.**\n",
    "\n",
    "**We will try to transform it by using the square root function (sqrt).**"
   ]
  },
  {
   "cell_type": "code",
   "execution_count": 27,
   "metadata": {},
   "outputs": [
    {
     "data": {
      "text/plain": [
       "Text(0.5, 1.0, 'Transformed BMI distribution')"
      ]
     },
     "execution_count": 27,
     "metadata": {},
     "output_type": "execute_result"
    },
    {
     "data": {
      "image/png": "[encoded data removed]",
      "text/plain": [
       "<Figure size 432x288 with 1 Axes>"
      ]
     },
     "metadata": {},
     "output_type": "display_data"
    }
   ],
   "source": [
    "bmi = np.array(data['bmi'])\n",
    "sqrt_bmi = np.sqrt(data['bmi'])\n",
    "ax = sns.histplot(sqrt_bmi, kde = True)\n",
    "ax.set_title('Transformed BMI distribution')"
   ]
  },
  {
   "cell_type": "markdown",
   "metadata": {},
   "source": [
    "## Shapiro-Wilk Normality Test\n",
    "\n",
    "Let's test whether the transformed BMI has a Gaussian distribution.\n",
    "\n",
    "Here are the hypothesis.\n",
    "\n",
    "**H0: the sample has a Gaussian distribution.**\n",
    "\n",
    "**H1: the sample does not have a Gaussian distribution.**"
   ]
  },
  {
   "cell_type": "code",
   "execution_count": 28,
   "metadata": {
    "scrolled": true
   },
   "outputs": [
    {
     "name": "stdout",
     "output_type": "stream",
     "text": [
      "stat=0.999, p=0.345\n",
      "Probably Gaussian\n"
     ]
    }
   ],
   "source": [
    "from scipy.stats import shapiro\n",
    "stat, p = shapiro(sqrt_bmi)\n",
    "print('stat=%.3f, p=%.3f' % (stat, p))\n",
    "if p > 0.05:\n",
    "\tprint('Probably Gaussian')\n",
    "else:\n",
    "\tprint('Probably not Gaussian')"
   ]
  },
  {
   "cell_type": "markdown",
   "metadata": {},
   "source": [
    "**Now we can assume that the variable is normally distributed.**"
   ]
  },
  {
   "cell_type": "code",
   "execution_count": 29,
   "metadata": {},
   "outputs": [
    {
     "name": "stdout",
     "output_type": "stream",
     "text": [
      "The probability that someone chosen randomly has a healthy BMI is 15.88%\n"
     ]
    }
   ],
   "source": [
    "# let's calculate the probability of having a healthy BMI\n",
    "from math import sqrt\n",
    "from scipy.stats import norm\n",
    "sqrt_mean = sqrt_bmi.mean()\n",
    "sqrt_sd = sqrt_bmi.std()\n",
    "\n",
    "upper_limit = norm.cdf((sqrt(24.9) - sqrt_mean)/(sqrt_sd))\n",
    "lower_limit = norm.cdf((sqrt(18.5) - sqrt_mean)/(sqrt_sd))\n",
    "prob = upper_limit - lower_limit\n",
    "print('The probability that someone chosen randomly has a healthy BMI is {}%'.format(round(prob*100, 2)))"
   ]
  },
  {
   "cell_type": "code",
   "execution_count": 30,
   "metadata": {},
   "outputs": [
    {
     "name": "stdout",
     "output_type": "stream",
     "text": [
      "The probability that someone chosen randomly has obesity is 52.36%\n"
     ]
    }
   ],
   "source": [
    "# According to the CDC a person reach obesity when the BMI is 30 or above\n",
    "\n",
    "prob1 = 1-norm.cdf((sqrt(30) - sqrt_mean)/(sqrt_sd))\n",
    "print('The probability that someone chosen randomly has obesity is {}%'.format(round(prob1*100, 2)))"
   ]
  },
  {
   "cell_type": "markdown",
   "metadata": {},
   "source": [
    "## Hypothesis Testing\n",
    "\n",
    "**Since the bmi variable follows the Normal distribution, it's worth to test:**\n",
    "+ whether the bmi differ by gender.\n",
    "+ whether the bmi differ by region."
   ]
  },
  {
   "cell_type": "code",
   "execution_count": 31,
   "metadata": {},
   "outputs": [
    {
     "data": {
      "text/plain": [
       "sex\n",
       "female    30.377749\n",
       "male      30.943129\n",
       "Name: bmi, dtype: float64"
      ]
     },
     "execution_count": 31,
     "metadata": {},
     "output_type": "execute_result"
    }
   ],
   "source": [
    "data.groupby('sex')['bmi'].mean()"
   ]
  },
  {
   "cell_type": "markdown",
   "metadata": {},
   "source": [
    "### T-Test\n",
    "\n",
    "We would like to test whether there is a difference in the BMI by gender.\n",
    "\n",
    "let's state our hypothesis:\n",
    "\n",
    "**H0: the means of the samples are equal.**\n",
    "\n",
    "**H1: the means of the samples are unequal.**"
   ]
  },
  {
   "cell_type": "code",
   "execution_count": 32,
   "metadata": {},
   "outputs": [
    {
     "name": "stdout",
     "output_type": "stream",
     "text": [
      "stat=-1.697, p=0.090\n",
      "Statistically the means are the same\n"
     ]
    }
   ],
   "source": [
    "female_bmi = data.loc[data['sex'] == 'female']['bmi']\n",
    "male_bmi = data.loc[data['sex'] == 'male']['bmi']\n",
    "\n",
    "# Example of the Student's t-test\n",
    "from scipy.stats import ttest_ind\n",
    "stat, p = ttest_ind(female_bmi, male_bmi)\n",
    "print('stat=%.3f, p=%.3f' % (stat, p))\n",
    "if p > 0.05:\n",
    "    print('Statistically the means are the same')\n",
    "else:\n",
    "    print('Statistically the means are not the same')"
   ]
  },
  {
   "cell_type": "code",
   "execution_count": 33,
   "metadata": {},
   "outputs": [
    {
     "data": {
      "text/html": [
       "<div>\n",
       "<style scoped>\n",
       "    .dataframe tbody tr th:only-of-type {\n",
       "        vertical-align: middle;\n",
       "    }\n",
       "\n",
       "    .dataframe tbody tr th {\n",
       "        vertical-align: top;\n",
       "    }\n",
       "\n",
       "    .dataframe thead th {\n",
       "        text-align: right;\n",
       "    }\n",
       "</style>\n",
       "<table border=\"1\" class=\"dataframe\">\n",
       "  <thead>\n",
       "    <tr style=\"text-align: right;\">\n",
       "      <th></th>\n",
       "      <th>bmi</th>\n",
       "    </tr>\n",
       "    <tr>\n",
       "      <th>region</th>\n",
       "      <th></th>\n",
       "    </tr>\n",
       "  </thead>\n",
       "  <tbody>\n",
       "    <tr>\n",
       "      <th>northeast</th>\n",
       "      <td>29.173503</td>\n",
       "    </tr>\n",
       "    <tr>\n",
       "      <th>northwest</th>\n",
       "      <td>29.199785</td>\n",
       "    </tr>\n",
       "    <tr>\n",
       "      <th>southeast</th>\n",
       "      <td>33.355989</td>\n",
       "    </tr>\n",
       "    <tr>\n",
       "      <th>southwest</th>\n",
       "      <td>30.596615</td>\n",
       "    </tr>\n",
       "  </tbody>\n",
       "</table>\n",
       "</div>"
      ],
      "text/plain": [
       "                 bmi\n",
       "region              \n",
       "northeast  29.173503\n",
       "northwest  29.199785\n",
       "southeast  33.355989\n",
       "southwest  30.596615"
      ]
     },
     "execution_count": 33,
     "metadata": {},
     "output_type": "execute_result"
    }
   ],
   "source": [
    "region_mean = data.groupby('region')['bmi'].mean()\n",
    "region_mean.to_frame()"
   ]
  },
  {
   "cell_type": "markdown",
   "metadata": {},
   "source": [
    "### ANOVA Test\n",
    "\n",
    "To test whether the means are equal by region we will use the one-way ANOVA test.\n",
    "\n",
    "Let's state our hypothesis.\n",
    "\n",
    "**H0: the means of the samples are equal.**\n",
    "\n",
    "**H1: one or more of the means of the samples are unequal.**"
   ]
  },
  {
   "cell_type": "code",
   "execution_count": 34,
   "metadata": {},
   "outputs": [
    {
     "name": "stdout",
     "output_type": "stream",
     "text": [
      "stat=39.495, p=0.000\n",
      "Statistically there is at least one mean that is different from the others\n"
     ]
    }
   ],
   "source": [
    "from scipy.stats import f_oneway\n",
    "northwest_bmi = data.loc[data['region'] == 'northwest']['bmi']\n",
    "northeast_bmi = data.loc[data['region'] == 'northeast']['bmi']\n",
    "southwest_bmi = data.loc[data['region'] == 'southwest']['bmi']\n",
    "southeast_bmi = data.loc[data['region'] == 'southeast']['bmi']\n",
    "stat, p = f_oneway(northwest_bmi, northeast_bmi, southwest_bmi, southeast_bmi)\n",
    "print('stat=%.3f, p=%.3f' % (stat, p))\n",
    "if p > 0.05:\n",
    "    print('Statistically the means are equal')\n",
    "else:\n",
    "    print('Statistically there is at least one mean that is different from the others')"
   ]
  },
  {
   "cell_type": "markdown",
   "metadata": {},
   "source": [
    "## Results\n",
    "\n",
    "We got insightful visualizations about our data's distribution and variables.\n",
    "\n",
    "We saw how important the outliers from the charges variable, and why it's convenient to keep them since they represent the smoking and obese people who obviously are exposed to greater risk.\n",
    "\n",
    "After transforming the BMI variable, we were able to calculate the probabilities of chosing randomly a healthy person and an obese person which evaluated respectively to 15.88% and 52.36%.\n",
    "\n",
    "Finally, we saw how the BMI means by gender are statistically equivalent, while they differ by region.\n",
    "\n",
    "Next we will try to predict charges using a famous Machine Learning technique which is Regression."
   ]
  },
  {
   "cell_type": "markdown",
   "metadata": {},
   "source": [
    "### Machine Learning\n",
    "\n",
    "Now let's check our data again"
   ]
  },
  {
   "cell_type": "code",
   "execution_count": 35,
   "metadata": {
    "scrolled": false
   },
   "outputs": [
    {
     "data": {
      "text/html": [
       "<div>\n",
       "<style scoped>\n",
       "    .dataframe tbody tr th:only-of-type {\n",
       "        vertical-align: middle;\n",
       "    }\n",
       "\n",
       "    .dataframe tbody tr th {\n",
       "        vertical-align: top;\n",
       "    }\n",
       "\n",
       "    .dataframe thead th {\n",
       "        text-align: right;\n",
       "    }\n",
       "</style>\n",
       "<table border=\"1\" class=\"dataframe\">\n",
       "  <thead>\n",
       "    <tr style=\"text-align: right;\">\n",
       "      <th></th>\n",
       "      <th>age</th>\n",
       "      <th>sex</th>\n",
       "      <th>bmi</th>\n",
       "      <th>children</th>\n",
       "      <th>smoker</th>\n",
       "      <th>region</th>\n",
       "      <th>charges</th>\n",
       "      <th>bmi_group</th>\n",
       "    </tr>\n",
       "  </thead>\n",
       "  <tbody>\n",
       "    <tr>\n",
       "      <th>0</th>\n",
       "      <td>19</td>\n",
       "      <td>female</td>\n",
       "      <td>27.900</td>\n",
       "      <td>0</td>\n",
       "      <td>1</td>\n",
       "      <td>southwest</td>\n",
       "      <td>16884.92400</td>\n",
       "      <td>Overweight</td>\n",
       "    </tr>\n",
       "    <tr>\n",
       "      <th>1</th>\n",
       "      <td>18</td>\n",
       "      <td>male</td>\n",
       "      <td>33.770</td>\n",
       "      <td>1</td>\n",
       "      <td>0</td>\n",
       "      <td>southeast</td>\n",
       "      <td>1725.55230</td>\n",
       "      <td>Obesity</td>\n",
       "    </tr>\n",
       "    <tr>\n",
       "      <th>2</th>\n",
       "      <td>28</td>\n",
       "      <td>male</td>\n",
       "      <td>33.000</td>\n",
       "      <td>3</td>\n",
       "      <td>0</td>\n",
       "      <td>southeast</td>\n",
       "      <td>4449.46200</td>\n",
       "      <td>Obesity</td>\n",
       "    </tr>\n",
       "    <tr>\n",
       "      <th>3</th>\n",
       "      <td>33</td>\n",
       "      <td>male</td>\n",
       "      <td>22.705</td>\n",
       "      <td>0</td>\n",
       "      <td>0</td>\n",
       "      <td>northwest</td>\n",
       "      <td>21984.47061</td>\n",
       "      <td>Healthy Weight</td>\n",
       "    </tr>\n",
       "    <tr>\n",
       "      <th>4</th>\n",
       "      <td>32</td>\n",
       "      <td>male</td>\n",
       "      <td>28.880</td>\n",
       "      <td>0</td>\n",
       "      <td>0</td>\n",
       "      <td>northwest</td>\n",
       "      <td>3866.85520</td>\n",
       "      <td>Overweight</td>\n",
       "    </tr>\n",
       "  </tbody>\n",
       "</table>\n",
       "</div>"
      ],
      "text/plain": [
       "   age     sex     bmi  children  smoker     region      charges  \\\n",
       "0   19  female  27.900         0       1  southwest  16884.92400   \n",
       "1   18    male  33.770         1       0  southeast   1725.55230   \n",
       "2   28    male  33.000         3       0  southeast   4449.46200   \n",
       "3   33    male  22.705         0       0  northwest  21984.47061   \n",
       "4   32    male  28.880         0       0  northwest   3866.85520   \n",
       "\n",
       "        bmi_group  \n",
       "0      Overweight  \n",
       "1         Obesity  \n",
       "2         Obesity  \n",
       "3  Healthy Weight  \n",
       "4      Overweight  "
      ]
     },
     "execution_count": 35,
     "metadata": {},
     "output_type": "execute_result"
    }
   ],
   "source": [
    "data.head()"
   ]
  },
  {
   "cell_type": "markdown",
   "metadata": {},
   "source": [
    "Now we ended up with an interesting form, since the BMI variable is repeated in a descrete form within the BMI_group variable.\n",
    "\n",
    "We avoid using both variables in the same model and compare which one comes with better results.\n",
    "\n",
    "The **first model** (model 1) will use the bmi variable and the **second model** (model 2) will use the bmi_group variable.\n",
    "\n",
    "For both data sets, we will fit and compare the results of the following models:\n",
    "- Linear regression without scaling the variables\n",
    "- Linear regression scaling the variables\n",
    "- Ridge regression\n",
    "- Lasso regression"
   ]
  },
  {
   "cell_type": "code",
   "execution_count": 36,
   "metadata": {},
   "outputs": [],
   "source": [
    "target = data['charges']"
   ]
  },
  {
   "cell_type": "markdown",
   "metadata": {},
   "source": [
    "### Model 1"
   ]
  },
  {
   "cell_type": "code",
   "execution_count": 37,
   "metadata": {},
   "outputs": [
    {
     "data": {
      "text/html": [
       "<div>\n",
       "<style scoped>\n",
       "    .dataframe tbody tr th:only-of-type {\n",
       "        vertical-align: middle;\n",
       "    }\n",
       "\n",
       "    .dataframe tbody tr th {\n",
       "        vertical-align: top;\n",
       "    }\n",
       "\n",
       "    .dataframe thead th {\n",
       "        text-align: right;\n",
       "    }\n",
       "</style>\n",
       "<table border=\"1\" class=\"dataframe\">\n",
       "  <thead>\n",
       "    <tr style=\"text-align: right;\">\n",
       "      <th></th>\n",
       "      <th>age</th>\n",
       "      <th>sex</th>\n",
       "      <th>bmi</th>\n",
       "      <th>children</th>\n",
       "      <th>smoker</th>\n",
       "      <th>region</th>\n",
       "    </tr>\n",
       "  </thead>\n",
       "  <tbody>\n",
       "    <tr>\n",
       "      <th>0</th>\n",
       "      <td>19</td>\n",
       "      <td>female</td>\n",
       "      <td>27.900</td>\n",
       "      <td>0</td>\n",
       "      <td>1</td>\n",
       "      <td>southwest</td>\n",
       "    </tr>\n",
       "    <tr>\n",
       "      <th>1</th>\n",
       "      <td>18</td>\n",
       "      <td>male</td>\n",
       "      <td>33.770</td>\n",
       "      <td>1</td>\n",
       "      <td>0</td>\n",
       "      <td>southeast</td>\n",
       "    </tr>\n",
       "    <tr>\n",
       "      <th>2</th>\n",
       "      <td>28</td>\n",
       "      <td>male</td>\n",
       "      <td>33.000</td>\n",
       "      <td>3</td>\n",
       "      <td>0</td>\n",
       "      <td>southeast</td>\n",
       "    </tr>\n",
       "    <tr>\n",
       "      <th>3</th>\n",
       "      <td>33</td>\n",
       "      <td>male</td>\n",
       "      <td>22.705</td>\n",
       "      <td>0</td>\n",
       "      <td>0</td>\n",
       "      <td>northwest</td>\n",
       "    </tr>\n",
       "    <tr>\n",
       "      <th>4</th>\n",
       "      <td>32</td>\n",
       "      <td>male</td>\n",
       "      <td>28.880</td>\n",
       "      <td>0</td>\n",
       "      <td>0</td>\n",
       "      <td>northwest</td>\n",
       "    </tr>\n",
       "  </tbody>\n",
       "</table>\n",
       "</div>"
      ],
      "text/plain": [
       "   age     sex     bmi  children  smoker     region\n",
       "0   19  female  27.900         0       1  southwest\n",
       "1   18    male  33.770         1       0  southeast\n",
       "2   28    male  33.000         3       0  southeast\n",
       "3   33    male  22.705         0       0  northwest\n",
       "4   32    male  28.880         0       0  northwest"
      ]
     },
     "execution_count": 37,
     "metadata": {},
     "output_type": "execute_result"
    }
   ],
   "source": [
    "data1 = data.drop(['bmi_group','charges'], axis = 1)\n",
    "data1.head()"
   ]
  },
  {
   "cell_type": "code",
   "execution_count": 38,
   "metadata": {},
   "outputs": [
    {
     "data": {
      "text/plain": [
       "age            int64\n",
       "sex           object\n",
       "bmi          float64\n",
       "children       int64\n",
       "smoker         int64\n",
       "region        object\n",
       "charges      float64\n",
       "bmi_group     object\n",
       "dtype: object"
      ]
     },
     "execution_count": 38,
     "metadata": {},
     "output_type": "execute_result"
    }
   ],
   "source": [
    "data.dtypes"
   ]
  },
  {
   "cell_type": "code",
   "execution_count": 39,
   "metadata": {},
   "outputs": [
    {
     "data": {
      "text/html": [
       "<div>\n",
       "<style scoped>\n",
       "    .dataframe tbody tr th:only-of-type {\n",
       "        vertical-align: middle;\n",
       "    }\n",
       "\n",
       "    .dataframe tbody tr th {\n",
       "        vertical-align: top;\n",
       "    }\n",
       "\n",
       "    .dataframe thead th {\n",
       "        text-align: right;\n",
       "    }\n",
       "</style>\n",
       "<table border=\"1\" class=\"dataframe\">\n",
       "  <thead>\n",
       "    <tr style=\"text-align: right;\">\n",
       "      <th></th>\n",
       "      <th>age</th>\n",
       "      <th>bmi</th>\n",
       "      <th>children</th>\n",
       "      <th>smoker</th>\n",
       "      <th>sex_male</th>\n",
       "      <th>region_northwest</th>\n",
       "      <th>region_southeast</th>\n",
       "      <th>region_southwest</th>\n",
       "    </tr>\n",
       "  </thead>\n",
       "  <tbody>\n",
       "    <tr>\n",
       "      <th>0</th>\n",
       "      <td>19</td>\n",
       "      <td>27.900</td>\n",
       "      <td>0</td>\n",
       "      <td>1</td>\n",
       "      <td>0</td>\n",
       "      <td>0</td>\n",
       "      <td>0</td>\n",
       "      <td>1</td>\n",
       "    </tr>\n",
       "    <tr>\n",
       "      <th>1</th>\n",
       "      <td>18</td>\n",
       "      <td>33.770</td>\n",
       "      <td>1</td>\n",
       "      <td>0</td>\n",
       "      <td>1</td>\n",
       "      <td>0</td>\n",
       "      <td>1</td>\n",
       "      <td>0</td>\n",
       "    </tr>\n",
       "    <tr>\n",
       "      <th>2</th>\n",
       "      <td>28</td>\n",
       "      <td>33.000</td>\n",
       "      <td>3</td>\n",
       "      <td>0</td>\n",
       "      <td>1</td>\n",
       "      <td>0</td>\n",
       "      <td>1</td>\n",
       "      <td>0</td>\n",
       "    </tr>\n",
       "    <tr>\n",
       "      <th>3</th>\n",
       "      <td>33</td>\n",
       "      <td>22.705</td>\n",
       "      <td>0</td>\n",
       "      <td>0</td>\n",
       "      <td>1</td>\n",
       "      <td>1</td>\n",
       "      <td>0</td>\n",
       "      <td>0</td>\n",
       "    </tr>\n",
       "    <tr>\n",
       "      <th>4</th>\n",
       "      <td>32</td>\n",
       "      <td>28.880</td>\n",
       "      <td>0</td>\n",
       "      <td>0</td>\n",
       "      <td>1</td>\n",
       "      <td>1</td>\n",
       "      <td>0</td>\n",
       "      <td>0</td>\n",
       "    </tr>\n",
       "  </tbody>\n",
       "</table>\n",
       "</div>"
      ],
      "text/plain": [
       "   age     bmi  children  smoker  sex_male  region_northwest  \\\n",
       "0   19  27.900         0       1         0                 0   \n",
       "1   18  33.770         1       0         1                 0   \n",
       "2   28  33.000         3       0         1                 0   \n",
       "3   33  22.705         0       0         1                 1   \n",
       "4   32  28.880         0       0         1                 1   \n",
       "\n",
       "   region_southeast  region_southwest  \n",
       "0                 0                 1  \n",
       "1                 1                 0  \n",
       "2                 1                 0  \n",
       "3                 0                 0  \n",
       "4                 0                 0  "
      ]
     },
     "execution_count": 39,
     "metadata": {},
     "output_type": "execute_result"
    }
   ],
   "source": [
    "# we will apply one hot encoding to categorical variables\n",
    "data1 = pd.get_dummies(data1, drop_first=True, columns=['sex', 'region'])\n",
    "data1.head()"
   ]
  },
  {
   "cell_type": "code",
   "execution_count": 40,
   "metadata": {},
   "outputs": [],
   "source": [
    "from sklearn.preprocessing import StandardScaler, PolynomialFeatures\n",
    "from sklearn.model_selection import KFold, cross_val_predict\n",
    "from sklearn.linear_model import LinearRegression, Lasso, Ridge\n",
    "from sklearn.metrics import r2_score\n",
    "from sklearn.pipeline import Pipeline"
   ]
  },
  {
   "cell_type": "code",
   "execution_count": 41,
   "metadata": {},
   "outputs": [],
   "source": [
    "kf = KFold(shuffle=True, random_state=555, n_splits=5)"
   ]
  },
  {
   "cell_type": "markdown",
   "metadata": {},
   "source": [
    "**We will use grid search cv for our parameter tuning and extract meaningful results for model comparison.**"
   ]
  },
  {
   "cell_type": "markdown",
   "metadata": {},
   "source": [
    "### Model 1 Linear regression without scaling the variables"
   ]
  },
  {
   "cell_type": "code",
   "execution_count": 42,
   "metadata": {},
   "outputs": [
    {
     "data": {
      "text/plain": [
       "GridSearchCV(cv=KFold(n_splits=5, random_state=555, shuffle=True),\n",
       "             estimator=Pipeline(steps=[('polynomial_features',\n",
       "                                        PolynomialFeatures()),\n",
       "                                       ('linear_regression',\n",
       "                                        LinearRegression())]),\n",
       "             param_grid={'polynomial_features__degree': [1, 2, 3]})"
      ]
     },
     "execution_count": 42,
     "metadata": {},
     "output_type": "execute_result"
    }
   ],
   "source": [
    "from sklearn.model_selection import GridSearchCV\n",
    "\n",
    "# Same estimator as before\n",
    "estimator = Pipeline([(\"polynomial_features\", PolynomialFeatures()),\n",
    "                      (\"linear_regression\", LinearRegression())])\n",
    "\n",
    "params = {\n",
    "    'polynomial_features__degree': [1, 2, 3]\n",
    "}\n",
    "\n",
    "grid = GridSearchCV(estimator, params, cv=kf)\n",
    "\n",
    "grid.fit(data1, target)"
   ]
  },
  {
   "cell_type": "code",
   "execution_count": 43,
   "metadata": {},
   "outputs": [
    {
     "data": {
      "text/plain": [
       "(0.80498278137892, {'polynomial_features__degree': 2})"
      ]
     },
     "execution_count": 43,
     "metadata": {},
     "output_type": "execute_result"
    }
   ],
   "source": [
    "best_score = grid.best_score_\n",
    "alpha_degree = (None, grid.best_params_['polynomial_features__degree'])\n",
    "grid.best_score_, grid.best_params_"
   ]
  },
  {
   "cell_type": "code",
   "execution_count": 44,
   "metadata": {},
   "outputs": [
    {
     "data": {
      "text/plain": [
       "0.8263982356893842"
      ]
     },
     "execution_count": 44,
     "metadata": {},
     "output_type": "execute_result"
    }
   ],
   "source": [
    "y_predict = grid.predict(data1)\n",
    "R2_score = r2_score(target, y_predict)\n",
    "R2_score"
   ]
  },
  {
   "cell_type": "code",
   "execution_count": 45,
   "metadata": {},
   "outputs": [],
   "source": [
    "lin_reg = [best_score, alpha_degree, R2_score]"
   ]
  },
  {
   "cell_type": "code",
   "execution_count": 46,
   "metadata": {},
   "outputs": [
    {
     "data": {
      "text/plain": [
       "array([-2.42776896e+14, -9.48522278e+00,  1.21766541e+03,  2.14934236e+03,\n",
       "       -1.16106515e+04,  1.57063411e+01, -4.35292528e+02,  1.09503035e+03,\n",
       "       -1.41419043e+03,  3.42281159e+00, -8.41032041e-01, -1.31590000e+01,\n",
       "        6.36059624e+00, -3.24930299e+00,  2.40093767e+01,  3.32666565e+01,\n",
       "        5.25883999e+01, -1.59068005e+01, -5.79741546e+01,  1.48347083e+03,\n",
       "       -4.68431718e+01, -6.06927929e+01, -1.76246304e+02, -2.97008648e+00,\n",
       "        1.98220737e+02,  3.18172890e+02, -1.64280590e+01,  8.58725959e+02,\n",
       "        9.74944317e+02, -1.20970446e+03, -1.16106515e+04,  2.72831080e+03,\n",
       "        4.48508446e+02,  4.85329068e+02, -3.75695394e+03,  1.57063411e+01,\n",
       "       -5.25585778e+01, -2.77421424e+02,  2.71545681e+03, -4.35292528e+02,\n",
       "        0.00000000e+00,  0.00000000e+00,  1.09503035e+03,  0.00000000e+00,\n",
       "       -1.41419043e+03])"
      ]
     },
     "execution_count": 46,
     "metadata": {},
     "output_type": "execute_result"
    }
   ],
   "source": [
    "grid.best_estimator_.named_steps['linear_regression'].coef_"
   ]
  },
  {
   "cell_type": "markdown",
   "metadata": {},
   "source": [
    "### Model 1 Linear Regression scaled variables"
   ]
  },
  {
   "cell_type": "code",
   "execution_count": 47,
   "metadata": {
    "scrolled": true
   },
   "outputs": [
    {
     "data": {
      "text/plain": [
       "GridSearchCV(cv=KFold(n_splits=5, random_state=555, shuffle=True),\n",
       "             estimator=Pipeline(steps=[('scaler', StandardScaler()),\n",
       "                                       ('polynomial_features',\n",
       "                                        PolynomialFeatures()),\n",
       "                                       ('linear_regression',\n",
       "                                        LinearRegression())]),\n",
       "             param_grid={'polynomial_features__degree': [1, 2, 3]})"
      ]
     },
     "execution_count": 47,
     "metadata": {},
     "output_type": "execute_result"
    }
   ],
   "source": [
    "from sklearn.model_selection import GridSearchCV\n",
    "\n",
    "# Same estimator as before\n",
    "estimator = Pipeline([(\"scaler\", StandardScaler()),\n",
    "        (\"polynomial_features\", PolynomialFeatures()),\n",
    "        (\"linear_regression\", LinearRegression())])\n",
    "\n",
    "params = {\n",
    "    'polynomial_features__degree': [1, 2, 3]\n",
    "}\n",
    "\n",
    "grid = GridSearchCV(estimator, params, cv=kf)\n",
    "\n",
    "grid.fit(data1, target)"
   ]
  },
  {
   "cell_type": "code",
   "execution_count": 48,
   "metadata": {},
   "outputs": [
    {
     "data": {
      "text/plain": [
       "(0.829965126687363, {'polynomial_features__degree': 2})"
      ]
     },
     "execution_count": 48,
     "metadata": {},
     "output_type": "execute_result"
    }
   ],
   "source": [
    "best_score = grid.best_score_\n",
    "alpha_degree = (None, grid.best_params_['polynomial_features__degree'])\n",
    "grid.best_score_, grid.best_params_"
   ]
  },
  {
   "cell_type": "code",
   "execution_count": 49,
   "metadata": {},
   "outputs": [
    {
     "data": {
      "text/plain": [
       "0.847724191182748"
      ]
     },
     "execution_count": 49,
     "metadata": {},
     "output_type": "execute_result"
    }
   ],
   "source": [
    "y_predict = grid.predict(data1)\n",
    "R2_score = r2_score(target, y_predict)\n",
    "R2_score"
   ]
  },
  {
   "cell_type": "code",
   "execution_count": 50,
   "metadata": {},
   "outputs": [],
   "source": [
    "lin_reg_scaled = [best_score, alpha_degree, R2_score]"
   ]
  },
  {
   "cell_type": "code",
   "execution_count": 51,
   "metadata": {},
   "outputs": [
    {
     "data": {
      "text/plain": [
       "array([ 8.91874812e+11,  3.58666185e+03,  1.96787044e+03,  9.76769613e+02,\n",
       "        3.90299409e+15,  4.64943830e+13, -8.77428452e+15, -3.21493153e+16,\n",
       "       -2.08290804e+15,  8.01572493e+02,  5.02655252e+01, -9.12860186e+01,\n",
       "       -2.89492861e+01,  1.23563197e+02,  1.04043340e+02,  3.30772521e+02,\n",
       "        2.74900267e+02, -2.35873652e+02,  2.00301188e+01,  3.64025048e+03,\n",
       "        1.86750312e+01, -3.69470407e+01, -3.82637836e+02, -2.05459569e+02,\n",
       "       -1.37265727e+02, -1.81197729e+02, -1.36556813e+02,  1.24082500e+02,\n",
       "       -1.28228573e+02, -2.07371051e+02, -2.66757659e+15, -1.17041019e+01,\n",
       "       -7.48406225e+01, -2.10032229e+02,  1.58595345e+02,  2.22164568e+15,\n",
       "        8.86137498e+01,  1.59852476e+02,  6.70488298e+01,  1.13560489e+16,\n",
       "       -2.99947801e+16,  4.09218254e+16,  3.38851846e+16,  3.45233683e+16,\n",
       "        3.86691196e+16])"
      ]
     },
     "execution_count": 51,
     "metadata": {},
     "output_type": "execute_result"
    }
   ],
   "source": [
    "grid.best_estimator_.named_steps['linear_regression'].coef_"
   ]
  },
  {
   "cell_type": "markdown",
   "metadata": {},
   "source": [
    "### Model 1 Ridge Regression"
   ]
  },
  {
   "cell_type": "markdown",
   "metadata": {},
   "source": [
    "**N.B : While alpha ranges used in models such as Lasso and Ridge regression may look inconsistent, we will just overlook this since those ranges contain the parameters that produce good results.**"
   ]
  },
  {
   "cell_type": "code",
   "execution_count": 52,
   "metadata": {},
   "outputs": [
    {
     "data": {
      "text/plain": [
       "GridSearchCV(cv=KFold(n_splits=5, random_state=555, shuffle=True),\n",
       "             estimator=Pipeline(steps=[('scaler', StandardScaler()),\n",
       "                                       ('polynomial_features',\n",
       "                                        PolynomialFeatures()),\n",
       "                                       ('ridge_regression', Ridge())]),\n",
       "             param_grid={'polynomial_features__degree': [1, 2, 3],\n",
       "                         'ridge_regression__alpha': array([ 4.        ,  4.19245254,  4.39416457,  4.6055816 ,  4.82717056,\n",
       "        5.05942087,  5.30284546,  5.557...\n",
       "       10.23819169, 10.73078318, 11.24707479, 11.78820681, 12.35537439,\n",
       "       12.94983017, 13.57288709, 14.22592122, 14.91037488, 15.62775975,\n",
       "       16.37966025, 17.16773704, 17.99373068, 18.85946545, 19.76685345,\n",
       "       20.71789872, 21.71470176, 22.75946412, 23.85449327, 25.0022077 ,\n",
       "       26.20514227, 27.4659538 , 28.78742692, 30.17248025, 31.62417284,\n",
       "       33.14571091, 34.74045495, 36.41192712, 38.16381905, 40.        ])})"
      ]
     },
     "execution_count": 52,
     "metadata": {},
     "output_type": "execute_result"
    }
   ],
   "source": [
    "from sklearn.model_selection import GridSearchCV\n",
    "\n",
    "# Same estimator as before\n",
    "estimator = Pipeline([(\"scaler\", StandardScaler()),\n",
    "        (\"polynomial_features\", PolynomialFeatures()),\n",
    "        (\"ridge_regression\", Ridge())])\n",
    "\n",
    "params = {\n",
    "    'polynomial_features__degree': [1, 2, 3],\n",
    "    'ridge_regression__alpha': np.geomspace(4, 40, 50)\n",
    "}\n",
    "\n",
    "grid = GridSearchCV(estimator, params, cv=kf)\n",
    "\n",
    "grid.fit(data1, target)"
   ]
  },
  {
   "cell_type": "code",
   "execution_count": 53,
   "metadata": {},
   "outputs": [
    {
     "data": {
      "text/plain": [
       "(0.8315159135685688,\n",
       " {'polynomial_features__degree': 2,\n",
       "  'ridge_regression__alpha': 31.62417284363078})"
      ]
     },
     "execution_count": 53,
     "metadata": {},
     "output_type": "execute_result"
    }
   ],
   "source": [
    "best_score = grid.best_score_\n",
    "alpha_degree = (grid.best_params_['ridge_regression__alpha'], grid.best_params_['polynomial_features__degree'])\n",
    "grid.best_score_, grid.best_params_"
   ]
  },
  {
   "cell_type": "code",
   "execution_count": 54,
   "metadata": {},
   "outputs": [
    {
     "data": {
      "text/plain": [
       "0.8475929725707861"
      ]
     },
     "execution_count": 54,
     "metadata": {},
     "output_type": "execute_result"
    }
   ],
   "source": [
    "y_predict = grid.predict(data1)\n",
    "R2_score = r2_score(target, y_predict)\n",
    "R2_score"
   ]
  },
  {
   "cell_type": "code",
   "execution_count": 55,
   "metadata": {},
   "outputs": [],
   "source": [
    "ridge_reg = [best_score, alpha_degree, R2_score]"
   ]
  },
  {
   "cell_type": "code",
   "execution_count": 56,
   "metadata": {},
   "outputs": [
    {
     "data": {
      "text/plain": [
       "array([   0.        , 3520.74242921, 1969.47925434,  921.37892004,\n",
       "       3046.25627283, -231.90195985,  -62.8962807 , -136.54268598,\n",
       "       -156.70740433,  754.05551188,   58.13267811,  -92.63844429,\n",
       "        -24.14138817,  121.81175982,   90.53882638,  309.09493264,\n",
       "        251.68637839, -232.52326339,   27.78705107, 3538.48614972,\n",
       "         25.3431592 ,  -30.9216258 , -348.30442266, -181.2539565 ,\n",
       "       -128.2858983 , -182.04258938, -126.11796125,  129.00067836,\n",
       "       -112.15908753, -205.69380699, 4457.04924345,    6.51360041,\n",
       "        -57.83883577, -163.82309724,  155.51034134,    4.85322149,\n",
       "         78.41588762,  148.21766501,   60.54554441,  -75.41660877,\n",
       "        115.79020466,  124.38745475, -139.88402061,  173.13916527,\n",
       "       -187.90206468])"
      ]
     },
     "execution_count": 56,
     "metadata": {},
     "output_type": "execute_result"
    }
   ],
   "source": [
    "grid.best_estimator_.named_steps['ridge_regression'].coef_"
   ]
  },
  {
   "cell_type": "markdown",
   "metadata": {
    "scrolled": false
   },
   "source": [
    "### Model 1 Lasso Regression"
   ]
  },
  {
   "cell_type": "code",
   "execution_count": 57,
   "metadata": {},
   "outputs": [
    {
     "data": {
      "text/plain": [
       "GridSearchCV(cv=KFold(n_splits=5, random_state=555, shuffle=True),\n",
       "             estimator=Pipeline(steps=[('scaler', StandardScaler()),\n",
       "                                       ('polynomial_features',\n",
       "                                        PolynomialFeatures()),\n",
       "                                       ('lasso_regression',\n",
       "                                        Lasso(max_iter=100000))]),\n",
       "             param_grid={'lasso_regression__alpha': array([50.        , 50.50061383, 51.00623995, 51.51692853, 52.03273027,\n",
       "       52.55369636, 53.0798785 , 53.61132893, 54.148100...\n",
       "       67.41702489, 68.09202279, 68.77377896, 69.46236106, 70.15783743,\n",
       "       70.86027711, 71.5697498 , 72.28632593, 73.01007662, 73.74107371,\n",
       "       74.47938974, 75.22509799, 75.97827248, 76.73898796, 77.50731993,\n",
       "       78.28334466, 79.06713916, 79.85878123, 80.65834944, 81.46592314,\n",
       "       82.2815825 , 83.10540847, 83.9374828 , 84.7778881 , 85.62670777,\n",
       "       86.48402605, 87.34992804, 88.22449968, 89.10782778, 90.        ]),\n",
       "                         'polynomial_features__degree': [1, 2, 3]})"
      ]
     },
     "execution_count": 57,
     "metadata": {},
     "output_type": "execute_result"
    }
   ],
   "source": [
    "from sklearn.model_selection import GridSearchCV\n",
    "\n",
    "# Same estimator as before\n",
    "estimator = Pipeline([(\"scaler\", StandardScaler()),\n",
    "        (\"polynomial_features\", PolynomialFeatures()),\n",
    "        (\"lasso_regression\", Lasso(max_iter=100000))])\n",
    "\n",
    "params = {\n",
    "    'polynomial_features__degree': [1,2,3],\n",
    "    'lasso_regression__alpha': np.geomspace(50, 90, 60)\n",
    "}\n",
    "\n",
    "grid = GridSearchCV(estimator, params, cv=kf)\n",
    "\n",
    "grid.fit(data1, target)"
   ]
  },
  {
   "cell_type": "code",
   "execution_count": 58,
   "metadata": {},
   "outputs": [
    {
     "data": {
      "text/plain": [
       "(0.8325039849660897,\n",
       " {'lasso_regression__alpha': 73.7410737070725,\n",
       "  'polynomial_features__degree': 2})"
      ]
     },
     "execution_count": 58,
     "metadata": {},
     "output_type": "execute_result"
    }
   ],
   "source": [
    "best_score = grid.best_score_\n",
    "alpha_degree = (grid.best_params_['lasso_regression__alpha'], grid.best_params_['polynomial_features__degree'])\n",
    "grid.best_score_, grid.best_params_"
   ]
  },
  {
   "cell_type": "code",
   "execution_count": 59,
   "metadata": {},
   "outputs": [
    {
     "data": {
      "text/plain": [
       "0.8462302941184598"
      ]
     },
     "execution_count": 59,
     "metadata": {},
     "output_type": "execute_result"
    }
   ],
   "source": [
    "y_predict = grid.predict(data1)\n",
    "R2_score = r2_score(target, y_predict)\n",
    "R2_score"
   ]
  },
  {
   "cell_type": "code",
   "execution_count": 60,
   "metadata": {},
   "outputs": [],
   "source": [
    "lasso_reg = [best_score, alpha_degree, R2_score]"
   ]
  },
  {
   "cell_type": "code",
   "execution_count": 61,
   "metadata": {},
   "outputs": [
    {
     "data": {
      "text/plain": [
       "array([ 0.00000000e+00,  3.57505843e+03,  1.90603442e+03,  7.21441303e+02,\n",
       "        0.00000000e+00, -1.63301869e+02, -0.00000000e+00, -0.00000000e+00,\n",
       "       -0.00000000e+00,  6.20572563e+02,  1.86653904e+01, -0.00000000e+00,\n",
       "       -0.00000000e+00,  4.55356925e+01, -0.00000000e+00,  1.51056518e+02,\n",
       "        7.29016081e+01, -2.00820277e+02, -0.00000000e+00,  3.51874135e+03,\n",
       "        0.00000000e+00,  1.11643692e+01, -2.18594100e+02, -0.00000000e+00,\n",
       "       -1.73408782e+01, -9.58858838e+01, -5.31017959e+01,  1.38192408e+02,\n",
       "       -0.00000000e+00, -1.09434547e+02,  6.54570313e+03,  0.00000000e+00,\n",
       "       -0.00000000e+00, -7.61728496e+01,  1.14676709e+02,  0.00000000e+00,\n",
       "        0.00000000e+00,  2.27302973e+01, -0.00000000e+00, -6.95310653e+01,\n",
       "        4.97704551e+00,  0.00000000e+00, -0.00000000e+00,  4.18406586e+02,\n",
       "       -7.41987842e+01])"
      ]
     },
     "execution_count": 61,
     "metadata": {},
     "output_type": "execute_result"
    }
   ],
   "source": [
    "grid.best_estimator_.named_steps['lasso_regression'].coef_"
   ]
  },
  {
   "cell_type": "code",
   "execution_count": 62,
   "metadata": {},
   "outputs": [
    {
     "data": {
      "text/plain": [
       "([0.80498278137892, (None, 2), 0.8263982356893842],\n",
       " [0.829965126687363, (None, 2), 0.847724191182748],\n",
       " [0.8315159135685688, (31.62417284363078, 2), 0.8475929725707861],\n",
       " [0.8325039849660897, (73.7410737070725, 2), 0.8462302941184598])"
      ]
     },
     "execution_count": 62,
     "metadata": {},
     "output_type": "execute_result"
    }
   ],
   "source": [
    "lin_reg, lin_reg_scaled, ridge_reg, lasso_reg"
   ]
  },
  {
   "cell_type": "code",
   "execution_count": 63,
   "metadata": {
    "scrolled": false
   },
   "outputs": [
    {
     "data": {
      "text/html": [
       "<div>\n",
       "<style scoped>\n",
       "    .dataframe tbody tr th:only-of-type {\n",
       "        vertical-align: middle;\n",
       "    }\n",
       "\n",
       "    .dataframe tbody tr th {\n",
       "        vertical-align: top;\n",
       "    }\n",
       "\n",
       "    .dataframe thead th {\n",
       "        text-align: right;\n",
       "    }\n",
       "</style>\n",
       "<table border=\"1\" class=\"dataframe\">\n",
       "  <thead>\n",
       "    <tr style=\"text-align: right;\">\n",
       "      <th></th>\n",
       "      <th></th>\n",
       "      <th>Best_score</th>\n",
       "      <th>(Alpha, Polynomial_degree)</th>\n",
       "      <th>R2_score</th>\n",
       "    </tr>\n",
       "  </thead>\n",
       "  <tbody>\n",
       "    <tr>\n",
       "      <th rowspan=\"4\" valign=\"top\">Model_1</th>\n",
       "      <th>lin_reg_scaled</th>\n",
       "      <td>0.829965</td>\n",
       "      <td>(None, 2)</td>\n",
       "      <td>0.847724</td>\n",
       "    </tr>\n",
       "    <tr>\n",
       "      <th>ridge_reg</th>\n",
       "      <td>0.831516</td>\n",
       "      <td>(31.62417284363078, 2)</td>\n",
       "      <td>0.847593</td>\n",
       "    </tr>\n",
       "    <tr>\n",
       "      <th>lasso_reg</th>\n",
       "      <td>0.832504</td>\n",
       "      <td>(73.7410737070725, 2)</td>\n",
       "      <td>0.846230</td>\n",
       "    </tr>\n",
       "    <tr>\n",
       "      <th>lin_reg</th>\n",
       "      <td>0.804983</td>\n",
       "      <td>(None, 2)</td>\n",
       "      <td>0.826398</td>\n",
       "    </tr>\n",
       "  </tbody>\n",
       "</table>\n",
       "</div>"
      ],
      "text/plain": [
       "                        Best_score (Alpha, Polynomial_degree)  R2_score\n",
       "Model_1 lin_reg_scaled    0.829965                  (None, 2)  0.847724\n",
       "        ridge_reg         0.831516     (31.62417284363078, 2)  0.847593\n",
       "        lasso_reg         0.832504      (73.7410737070725, 2)  0.846230\n",
       "        lin_reg           0.804983                  (None, 2)  0.826398"
      ]
     },
     "execution_count": 63,
     "metadata": {},
     "output_type": "execute_result"
    }
   ],
   "source": [
    "ind = pd.MultiIndex.from_tuples([('Model_1','lin_reg'),('Model_1','lin_reg_scaled'),('Model_1','ridge_reg'),('Model_1','lasso_reg')])\n",
    "col = [('Best_score'),('(Alpha, Polynomial_degree)'),('R2_score')]\n",
    "Model_1 = pd.DataFrame([lin_reg,\n",
    "                      lin_reg_scaled,\n",
    "                      ridge_reg,\n",
    "                      lasso_reg], index=ind, columns=col)\n",
    "Model_1.sort_values(by='R2_score', ascending=False)"
   ]
  },
  {
   "cell_type": "markdown",
   "metadata": {},
   "source": [
    "**We see that all models produce the best results using polynomial degree 2.**\n",
    "\n",
    "**Surprisingly, the scaled version of linear regression reached an accuracy on equal footing with Ridge and LASSO regression.**"
   ]
  },
  {
   "cell_type": "markdown",
   "metadata": {},
   "source": [
    "**Next, we will just repeat the same steps using our discretized BMI_group variable instead of the continuous BMI variable.**"
   ]
  },
  {
   "cell_type": "markdown",
   "metadata": {},
   "source": [
    "### Model 2"
   ]
  },
  {
   "cell_type": "code",
   "execution_count": 64,
   "metadata": {},
   "outputs": [
    {
     "data": {
      "text/html": [
       "<div>\n",
       "<style scoped>\n",
       "    .dataframe tbody tr th:only-of-type {\n",
       "        vertical-align: middle;\n",
       "    }\n",
       "\n",
       "    .dataframe tbody tr th {\n",
       "        vertical-align: top;\n",
       "    }\n",
       "\n",
       "    .dataframe thead th {\n",
       "        text-align: right;\n",
       "    }\n",
       "</style>\n",
       "<table border=\"1\" class=\"dataframe\">\n",
       "  <thead>\n",
       "    <tr style=\"text-align: right;\">\n",
       "      <th></th>\n",
       "      <th>age</th>\n",
       "      <th>sex</th>\n",
       "      <th>children</th>\n",
       "      <th>smoker</th>\n",
       "      <th>region</th>\n",
       "      <th>bmi_group</th>\n",
       "    </tr>\n",
       "  </thead>\n",
       "  <tbody>\n",
       "    <tr>\n",
       "      <th>0</th>\n",
       "      <td>19</td>\n",
       "      <td>female</td>\n",
       "      <td>0</td>\n",
       "      <td>1</td>\n",
       "      <td>southwest</td>\n",
       "      <td>Overweight</td>\n",
       "    </tr>\n",
       "    <tr>\n",
       "      <th>1</th>\n",
       "      <td>18</td>\n",
       "      <td>male</td>\n",
       "      <td>1</td>\n",
       "      <td>0</td>\n",
       "      <td>southeast</td>\n",
       "      <td>Obesity</td>\n",
       "    </tr>\n",
       "    <tr>\n",
       "      <th>2</th>\n",
       "      <td>28</td>\n",
       "      <td>male</td>\n",
       "      <td>3</td>\n",
       "      <td>0</td>\n",
       "      <td>southeast</td>\n",
       "      <td>Obesity</td>\n",
       "    </tr>\n",
       "    <tr>\n",
       "      <th>3</th>\n",
       "      <td>33</td>\n",
       "      <td>male</td>\n",
       "      <td>0</td>\n",
       "      <td>0</td>\n",
       "      <td>northwest</td>\n",
       "      <td>Healthy Weight</td>\n",
       "    </tr>\n",
       "    <tr>\n",
       "      <th>4</th>\n",
       "      <td>32</td>\n",
       "      <td>male</td>\n",
       "      <td>0</td>\n",
       "      <td>0</td>\n",
       "      <td>northwest</td>\n",
       "      <td>Overweight</td>\n",
       "    </tr>\n",
       "  </tbody>\n",
       "</table>\n",
       "</div>"
      ],
      "text/plain": [
       "   age     sex  children  smoker     region       bmi_group\n",
       "0   19  female         0       1  southwest      Overweight\n",
       "1   18    male         1       0  southeast         Obesity\n",
       "2   28    male         3       0  southeast         Obesity\n",
       "3   33    male         0       0  northwest  Healthy Weight\n",
       "4   32    male         0       0  northwest      Overweight"
      ]
     },
     "execution_count": 64,
     "metadata": {},
     "output_type": "execute_result"
    }
   ],
   "source": [
    "data2 = data.drop(['bmi','charges'], axis = 1)\n",
    "data2.head()"
   ]
  },
  {
   "cell_type": "code",
   "execution_count": 65,
   "metadata": {
    "scrolled": true
   },
   "outputs": [
    {
     "data": {
      "text/html": [
       "<div>\n",
       "<style scoped>\n",
       "    .dataframe tbody tr th:only-of-type {\n",
       "        vertical-align: middle;\n",
       "    }\n",
       "\n",
       "    .dataframe tbody tr th {\n",
       "        vertical-align: top;\n",
       "    }\n",
       "\n",
       "    .dataframe thead th {\n",
       "        text-align: right;\n",
       "    }\n",
       "</style>\n",
       "<table border=\"1\" class=\"dataframe\">\n",
       "  <thead>\n",
       "    <tr style=\"text-align: right;\">\n",
       "      <th></th>\n",
       "      <th>age</th>\n",
       "      <th>children</th>\n",
       "      <th>smoker</th>\n",
       "      <th>sex_male</th>\n",
       "      <th>region_northwest</th>\n",
       "      <th>region_southeast</th>\n",
       "      <th>region_southwest</th>\n",
       "      <th>bmi_group_Obesity</th>\n",
       "      <th>bmi_group_Overweight</th>\n",
       "      <th>bmi_group_Underweight</th>\n",
       "    </tr>\n",
       "  </thead>\n",
       "  <tbody>\n",
       "    <tr>\n",
       "      <th>0</th>\n",
       "      <td>19</td>\n",
       "      <td>0</td>\n",
       "      <td>1</td>\n",
       "      <td>0</td>\n",
       "      <td>0</td>\n",
       "      <td>0</td>\n",
       "      <td>1</td>\n",
       "      <td>0</td>\n",
       "      <td>1</td>\n",
       "      <td>0</td>\n",
       "    </tr>\n",
       "    <tr>\n",
       "      <th>1</th>\n",
       "      <td>18</td>\n",
       "      <td>1</td>\n",
       "      <td>0</td>\n",
       "      <td>1</td>\n",
       "      <td>0</td>\n",
       "      <td>1</td>\n",
       "      <td>0</td>\n",
       "      <td>1</td>\n",
       "      <td>0</td>\n",
       "      <td>0</td>\n",
       "    </tr>\n",
       "    <tr>\n",
       "      <th>2</th>\n",
       "      <td>28</td>\n",
       "      <td>3</td>\n",
       "      <td>0</td>\n",
       "      <td>1</td>\n",
       "      <td>0</td>\n",
       "      <td>1</td>\n",
       "      <td>0</td>\n",
       "      <td>1</td>\n",
       "      <td>0</td>\n",
       "      <td>0</td>\n",
       "    </tr>\n",
       "    <tr>\n",
       "      <th>3</th>\n",
       "      <td>33</td>\n",
       "      <td>0</td>\n",
       "      <td>0</td>\n",
       "      <td>1</td>\n",
       "      <td>1</td>\n",
       "      <td>0</td>\n",
       "      <td>0</td>\n",
       "      <td>0</td>\n",
       "      <td>0</td>\n",
       "      <td>0</td>\n",
       "    </tr>\n",
       "    <tr>\n",
       "      <th>4</th>\n",
       "      <td>32</td>\n",
       "      <td>0</td>\n",
       "      <td>0</td>\n",
       "      <td>1</td>\n",
       "      <td>1</td>\n",
       "      <td>0</td>\n",
       "      <td>0</td>\n",
       "      <td>0</td>\n",
       "      <td>1</td>\n",
       "      <td>0</td>\n",
       "    </tr>\n",
       "  </tbody>\n",
       "</table>\n",
       "</div>"
      ],
      "text/plain": [
       "   age  children  smoker  sex_male  region_northwest  region_southeast  \\\n",
       "0   19         0       1         0                 0                 0   \n",
       "1   18         1       0         1                 0                 1   \n",
       "2   28         3       0         1                 0                 1   \n",
       "3   33         0       0         1                 1                 0   \n",
       "4   32         0       0         1                 1                 0   \n",
       "\n",
       "   region_southwest  bmi_group_Obesity  bmi_group_Overweight  \\\n",
       "0                 1                  0                     1   \n",
       "1                 0                  1                     0   \n",
       "2                 0                  1                     0   \n",
       "3                 0                  0                     0   \n",
       "4                 0                  0                     1   \n",
       "\n",
       "   bmi_group_Underweight  \n",
       "0                      0  \n",
       "1                      0  \n",
       "2                      0  \n",
       "3                      0  \n",
       "4                      0  "
      ]
     },
     "execution_count": 65,
     "metadata": {},
     "output_type": "execute_result"
    }
   ],
   "source": [
    "data2 = pd.get_dummies(data2, drop_first=True, columns=['sex', 'region', 'bmi_group'])\n",
    "data2.head()"
   ]
  },
  {
   "cell_type": "markdown",
   "metadata": {},
   "source": [
    "### Model 2 Linear regression without variables scaling."
   ]
  },
  {
   "cell_type": "code",
   "execution_count": 66,
   "metadata": {},
   "outputs": [
    {
     "data": {
      "text/plain": [
       "GridSearchCV(cv=KFold(n_splits=5, random_state=555, shuffle=True),\n",
       "             estimator=Pipeline(steps=[('polynomial_features',\n",
       "                                        PolynomialFeatures()),\n",
       "                                       ('linear_regression',\n",
       "                                        LinearRegression())]),\n",
       "             param_grid={'polynomial_features__degree': [1, 2, 3]})"
      ]
     },
     "execution_count": 66,
     "metadata": {},
     "output_type": "execute_result"
    }
   ],
   "source": [
    "from sklearn.model_selection import GridSearchCV\n",
    "\n",
    "# Same estimator as before\n",
    "estimator = Pipeline([(\"polynomial_features\", PolynomialFeatures()),\n",
    "                      (\"linear_regression\", LinearRegression())])\n",
    "\n",
    "params = {\n",
    "    'polynomial_features__degree': [1, 2, 3]\n",
    "}\n",
    "\n",
    "grid = GridSearchCV(estimator, params, cv=kf)\n",
    "\n",
    "grid.fit(data2, target)"
   ]
  },
  {
   "cell_type": "code",
   "execution_count": 67,
   "metadata": {},
   "outputs": [
    {
     "data": {
      "text/plain": [
       "(0.8517098686270737, {'polynomial_features__degree': 2})"
      ]
     },
     "execution_count": 67,
     "metadata": {},
     "output_type": "execute_result"
    }
   ],
   "source": [
    "best_score = grid.best_score_\n",
    "alpha_degree = (None, grid.best_params_['polynomial_features__degree'])\n",
    "grid.best_score_, grid.best_params_"
   ]
  },
  {
   "cell_type": "code",
   "execution_count": 68,
   "metadata": {},
   "outputs": [
    {
     "data": {
      "text/plain": [
       "0.869463179501786"
      ]
     },
     "execution_count": 68,
     "metadata": {},
     "output_type": "execute_result"
    }
   ],
   "source": [
    "y_predict = grid.predict(data2)\n",
    "R2_score = r2_score(target, y_predict)\n",
    "R2_score"
   ]
  },
  {
   "cell_type": "code",
   "execution_count": 69,
   "metadata": {},
   "outputs": [],
   "source": [
    "lin_reg = [best_score, alpha_degree, R2_score]"
   ]
  },
  {
   "cell_type": "code",
   "execution_count": 70,
   "metadata": {},
   "outputs": [
    {
     "data": {
      "text/plain": [
       "array([ 6.04903102e-10, -7.54907130e+01,  1.18248353e+03,  5.70261577e+03,\n",
       "       -5.78203604e+02, -7.64728279e+02, -6.22084894e+02, -1.27751394e+03,\n",
       "       -2.59795927e+02, -9.30999255e+02, -2.32675697e+03,  3.82629595e+00,\n",
       "       -2.60248984e+00, -3.12519678e+00,  5.79295742e+00,  9.33377329e+00,\n",
       "        3.77650434e+01,  2.45134252e+01,  1.44011808e+01,  3.04124959e+01,\n",
       "        5.42459183e+01, -1.25715232e+02, -3.66697107e+02, -6.07464500e+01,\n",
       "        8.28529075e+01, -2.98595600e+02, -3.92325602e+02,  3.43973058e+02,\n",
       "        3.34448761e+02,  6.54277531e+01,  5.70261577e+03,  5.58313536e+01,\n",
       "        9.60416510e+02,  1.41244811e+03,  7.53600840e+02,  2.14151939e+04,\n",
       "        2.75497128e+03,  3.27647654e+03, -5.78203604e+02,  6.55090995e+02,\n",
       "        1.52078133e+02,  4.59355712e+02, -1.30196198e+01,  6.13371513e+02,\n",
       "       -1.10584789e+03, -7.64728279e+02,  2.84217094e-13, -9.09494702e-13,\n",
       "        7.53482904e+00,  1.49962931e+02,  3.97784960e+03, -6.22084894e+02,\n",
       "        0.00000000e+00, -1.06905572e+03, -1.48743212e+03,  0.00000000e+00,\n",
       "       -1.27751394e+03, -1.66873463e+02,  1.31927023e+03,  2.03486596e+03,\n",
       "       -2.59795927e+02,  0.00000000e+00,  0.00000000e+00, -9.30999255e+02,\n",
       "        0.00000000e+00, -2.32675697e+03])"
      ]
     },
     "execution_count": 70,
     "metadata": {},
     "output_type": "execute_result"
    }
   ],
   "source": [
    "grid.best_estimator_.named_steps['linear_regression'].coef_"
   ]
  },
  {
   "cell_type": "markdown",
   "metadata": {},
   "source": [
    "### Model 2 Linear Regression scaled variables"
   ]
  },
  {
   "cell_type": "code",
   "execution_count": 71,
   "metadata": {
    "scrolled": true
   },
   "outputs": [
    {
     "data": {
      "text/plain": [
       "GridSearchCV(cv=KFold(n_splits=5, random_state=555, shuffle=True),\n",
       "             estimator=Pipeline(steps=[('scaler', StandardScaler()),\n",
       "                                       ('polynomial_features',\n",
       "                                        PolynomialFeatures()),\n",
       "                                       ('linear_regression',\n",
       "                                        LinearRegression())]),\n",
       "             param_grid={'polynomial_features__degree': [1, 2, 3]})"
      ]
     },
     "execution_count": 71,
     "metadata": {},
     "output_type": "execute_result"
    }
   ],
   "source": [
    "from sklearn.model_selection import GridSearchCV\n",
    "\n",
    "# Same estimator as before\n",
    "estimator = Pipeline([(\"scaler\", StandardScaler()),\n",
    "        (\"polynomial_features\", PolynomialFeatures()),\n",
    "        (\"linear_regression\", LinearRegression())])\n",
    "\n",
    "params = {\n",
    "    'polynomial_features__degree': [1, 2, 3]\n",
    "}\n",
    "\n",
    "grid = GridSearchCV(estimator, params, cv=kf)\n",
    "\n",
    "grid.fit(data2, target)"
   ]
  },
  {
   "cell_type": "code",
   "execution_count": 72,
   "metadata": {},
   "outputs": [
    {
     "data": {
      "text/plain": [
       "(0.8514920934611669, {'polynomial_features__degree': 2})"
      ]
     },
     "execution_count": 72,
     "metadata": {},
     "output_type": "execute_result"
    }
   ],
   "source": [
    "best_score = grid.best_score_\n",
    "alpha_degree = (None, grid.best_params_['polynomial_features__degree'])\n",
    "grid.best_score_, grid.best_params_"
   ]
  },
  {
   "cell_type": "code",
   "execution_count": 73,
   "metadata": {},
   "outputs": [
    {
     "data": {
      "text/plain": [
       "0.8692157125924178"
      ]
     },
     "execution_count": 73,
     "metadata": {},
     "output_type": "execute_result"
    }
   ],
   "source": [
    "y_predict = grid.predict(data2)\n",
    "R2_score = r2_score(target, y_predict)\n",
    "R2_score"
   ]
  },
  {
   "cell_type": "code",
   "execution_count": 74,
   "metadata": {},
   "outputs": [],
   "source": [
    "lin_reg_scaled = [best_score, alpha_degree, R2_score]"
   ]
  },
  {
   "cell_type": "code",
   "execution_count": 75,
   "metadata": {},
   "outputs": [
    {
     "data": {
      "text/plain": [
       "array([-8.75810642e+11,  3.63744781e+03,  1.03190508e+03,  2.15914916e+16,\n",
       "        1.07067382e+14, -1.25526895e+16, -7.64485210e+15, -1.83149002e+16,\n",
       "        3.86563264e+14, -4.94022286e+15,  1.45334130e+16,  7.57382812e+02,\n",
       "       -5.40000000e+01, -9.50000000e+00,  3.27500000e+01,  5.49375000e+01,\n",
       "        2.37500000e+02,  1.51000000e+02,  1.06000000e+02,  2.08000000e+02,\n",
       "        9.15000000e+01, -1.89750000e+02, -1.72000000e+02, -3.65000000e+01,\n",
       "        5.00000000e+01, -1.69125000e+02, -2.00500000e+02,  2.03000000e+02,\n",
       "        1.78000000e+02, -8.00000000e+00, -1.47571214e+16,  1.42500000e+01,\n",
       "        1.64250000e+02,  2.63500000e+02,  1.21000000e+02,  4.30400000e+03,\n",
       "        4.98000000e+02,  1.73750000e+02,  5.11601122e+15,  1.40000000e+02,\n",
       "        2.80000000e+01,  1.01812500e+02, -4.00000000e+00,  1.36000000e+02,\n",
       "       -6.05000000e+01,  8.42702824e+15, -5.84734552e+15,  1.98876101e+15,\n",
       "        1.30000000e+01,  4.30000000e+01,  2.08250000e+02,  2.20433851e+15,\n",
       "       -2.95215421e+15, -2.33500000e+02, -2.92000000e+02, -3.26645061e+15,\n",
       "        1.47086908e+16, -3.60000000e+01,  2.58000000e+02,  1.17750000e+02,\n",
       "        2.35257926e+14,  5.72869903e+15, -2.66916529e+16,  9.96743827e+15,\n",
       "       -1.37807311e+16, -6.69927399e+15])"
      ]
     },
     "execution_count": 75,
     "metadata": {},
     "output_type": "execute_result"
    }
   ],
   "source": [
    "grid.best_estimator_.named_steps['linear_regression'].coef_"
   ]
  },
  {
   "cell_type": "markdown",
   "metadata": {},
   "source": [
    "### Model 2  Ridge regression"
   ]
  },
  {
   "cell_type": "code",
   "execution_count": 76,
   "metadata": {},
   "outputs": [
    {
     "data": {
      "text/plain": [
       "GridSearchCV(cv=KFold(n_splits=5, random_state=555, shuffle=True),\n",
       "             estimator=Pipeline(steps=[('scaler', StandardScaler()),\n",
       "                                       ('polynomial_features',\n",
       "                                        PolynomialFeatures()),\n",
       "                                       ('ridge_regression', Ridge())]),\n",
       "             param_grid={'polynomial_features__degree': [1, 2, 3],\n",
       "                         'ridge_regression__alpha': array([ 4.        ,  4.19245254,  4.39416457,  4.6055816 ,  4.82717056,\n",
       "        5.05942087,  5.30284546,  5.557...\n",
       "       10.23819169, 10.73078318, 11.24707479, 11.78820681, 12.35537439,\n",
       "       12.94983017, 13.57288709, 14.22592122, 14.91037488, 15.62775975,\n",
       "       16.37966025, 17.16773704, 17.99373068, 18.85946545, 19.76685345,\n",
       "       20.71789872, 21.71470176, 22.75946412, 23.85449327, 25.0022077 ,\n",
       "       26.20514227, 27.4659538 , 28.78742692, 30.17248025, 31.62417284,\n",
       "       33.14571091, 34.74045495, 36.41192712, 38.16381905, 40.        ])})"
      ]
     },
     "execution_count": 76,
     "metadata": {},
     "output_type": "execute_result"
    }
   ],
   "source": [
    "from sklearn.model_selection import GridSearchCV\n",
    "\n",
    "# Same estimator as before\n",
    "estimator = Pipeline([(\"scaler\", StandardScaler()),\n",
    "        (\"polynomial_features\", PolynomialFeatures()),\n",
    "        (\"ridge_regression\", Ridge())])\n",
    "\n",
    "params = {\n",
    "    'polynomial_features__degree': [1, 2, 3],\n",
    "    'ridge_regression__alpha': np.geomspace(4, 40, 50)\n",
    "}\n",
    "\n",
    "grid = GridSearchCV(estimator, params, cv=kf)\n",
    "\n",
    "grid.fit(data2, target)"
   ]
  },
  {
   "cell_type": "code",
   "execution_count": 77,
   "metadata": {},
   "outputs": [
    {
     "data": {
      "text/plain": [
       "(0.8522931183263784,\n",
       " {'polynomial_features__degree': 2,\n",
       "  'ridge_regression__alpha': 33.145710914187376})"
      ]
     },
     "execution_count": 77,
     "metadata": {},
     "output_type": "execute_result"
    }
   ],
   "source": [
    "best_score = grid.best_score_\n",
    "alpha_degree = (grid.best_params_['ridge_regression__alpha'], grid.best_params_['polynomial_features__degree'])\n",
    "grid.best_score_, grid.best_params_"
   ]
  },
  {
   "cell_type": "code",
   "execution_count": 78,
   "metadata": {},
   "outputs": [
    {
     "data": {
      "text/plain": [
       "0.8691647800185991"
      ]
     },
     "execution_count": 78,
     "metadata": {},
     "output_type": "execute_result"
    }
   ],
   "source": [
    "y_predict = grid.predict(data2)\n",
    "R2_score = r2_score(target, y_predict)\n",
    "R2_score"
   ]
  },
  {
   "cell_type": "code",
   "execution_count": 79,
   "metadata": {},
   "outputs": [],
   "source": [
    "ridge_reg = [best_score, alpha_degree, R2_score]"
   ]
  },
  {
   "cell_type": "code",
   "execution_count": 80,
   "metadata": {},
   "outputs": [
    {
     "data": {
      "text/plain": [
       "array([ 0.00000000e+00,  3.55305159e+03,  9.52832090e+02,  3.03869806e+03,\n",
       "       -2.39750760e+02, -2.99725291e+01, -8.74003948e+01, -1.60833522e+02,\n",
       "        1.66194164e+03, -3.04263185e+02, -4.77857325e+00,  7.33954446e+02,\n",
       "       -6.38515607e+01, -1.20985580e+01,  3.15551650e+01,  4.47188436e+01,\n",
       "        2.17089492e+02,  1.33797800e+02,  9.43134171e+01,  1.77587528e+02,\n",
       "        7.29364529e+01, -1.66527646e+02, -1.73591115e+02, -3.20365951e+01,\n",
       "        5.22729404e+01, -1.41372450e+02, -1.92103528e+02,  1.93449320e+02,\n",
       "        1.67240480e+02,  2.43282872e+01,  4.44599064e+03,  4.25829442e+01,\n",
       "        1.62901809e+02,  2.73960069e+02,  1.40528771e+02,  4.08980337e+03,\n",
       "        3.41378478e+02,  1.06412670e+02,  5.01748041e+00,  1.25539726e+02,\n",
       "        1.79191822e+01,  8.94024682e+01, -5.65456163e-01,  1.34209160e+02,\n",
       "       -8.00317389e+01, -3.59389534e+01,  6.78280633e+01,  1.08075960e+02,\n",
       "       -7.36648160e+00,  2.53359111e+01,  1.98897319e+02, -8.95391689e+01,\n",
       "        1.47826486e+02, -2.05279844e+02, -2.66289842e+02,  1.36876593e+01,\n",
       "       -1.92849540e+02, -5.07266211e+01,  2.36481332e+02,  7.97069533e+01,\n",
       "       -1.89105854e+02, -7.36190834e+02, -1.99667860e+02, -2.84088538e+02,\n",
       "        4.05234144e+01, -3.82032436e+01])"
      ]
     },
     "execution_count": 80,
     "metadata": {},
     "output_type": "execute_result"
    }
   ],
   "source": [
    "grid.best_estimator_.named_steps['ridge_regression'].coef_"
   ]
  },
  {
   "cell_type": "markdown",
   "metadata": {
    "scrolled": false
   },
   "source": [
    "### Model 2 Lasso regression"
   ]
  },
  {
   "cell_type": "code",
   "execution_count": 81,
   "metadata": {},
   "outputs": [
    {
     "data": {
      "text/plain": [
       "GridSearchCV(cv=KFold(n_splits=5, random_state=555, shuffle=True),\n",
       "             estimator=Pipeline(steps=[('scaler', StandardScaler()),\n",
       "                                       ('polynomial_features',\n",
       "                                        PolynomialFeatures()),\n",
       "                                       ('lasso_regression',\n",
       "                                        Lasso(max_iter=100000))]),\n",
       "             param_grid={'lasso_regression__alpha': array([ 80.        ,  80.55167667,  81.10715767,  81.66646925,\n",
       "        82.22963782,  82.79668998,  83.36765251,  83.94255236,\n",
       "        84.52141...\n",
       "        99.67749394, 100.36486578, 101.05697772, 101.75386242,\n",
       "       102.45555282, 103.16208205, 103.87348347, 104.58979068,\n",
       "       105.31103752, 106.03725805, 106.76848656, 107.5047576 ,\n",
       "       108.24610593, 108.99256656, 109.74417476, 110.50096602,\n",
       "       111.26297608, 112.03024092, 112.8027968 , 113.58068019,\n",
       "       114.36392782, 115.15257671, 115.94666408, 116.74622744,\n",
       "       117.55130456, 118.36193346, 119.17815243, 120.        ]),\n",
       "                         'polynomial_features__degree': [1, 2, 3]})"
      ]
     },
     "execution_count": 81,
     "metadata": {},
     "output_type": "execute_result"
    }
   ],
   "source": [
    "from sklearn.model_selection import GridSearchCV\n",
    "\n",
    "# Same estimator as before\n",
    "estimator = Pipeline([(\"scaler\", StandardScaler()),\n",
    "        (\"polynomial_features\", PolynomialFeatures()),\n",
    "        (\"lasso_regression\", Lasso(max_iter=100000))])\n",
    "\n",
    "params = {\n",
    "    'polynomial_features__degree': [1,2,3],\n",
    "    'lasso_regression__alpha': np.geomspace(80, 120, 60)\n",
    "}\n",
    "\n",
    "grid = GridSearchCV(estimator, params, cv=kf)\n",
    "\n",
    "grid.fit(data2, target)"
   ]
  },
  {
   "cell_type": "code",
   "execution_count": 82,
   "metadata": {},
   "outputs": [
    {
     "data": {
      "text/plain": [
       "(0.855033666178441,\n",
       " {'lasso_regression__alpha': 97.64349540069045,\n",
       "  'polynomial_features__degree': 2})"
      ]
     },
     "execution_count": 82,
     "metadata": {},
     "output_type": "execute_result"
    }
   ],
   "source": [
    "best_score = grid.best_score_\n",
    "alpha_degree = (grid.best_params_['lasso_regression__alpha'], grid.best_params_['polynomial_features__degree'])\n",
    "grid.best_score_, grid.best_params_"
   ]
  },
  {
   "cell_type": "code",
   "execution_count": 83,
   "metadata": {},
   "outputs": [
    {
     "data": {
      "text/plain": [
       "0.8663602384916383"
      ]
     },
     "execution_count": 83,
     "metadata": {},
     "output_type": "execute_result"
    }
   ],
   "source": [
    "y_predict = grid.predict(data2)\n",
    "R2_score = r2_score(target, y_predict)\n",
    "R2_score"
   ]
  },
  {
   "cell_type": "code",
   "execution_count": 84,
   "metadata": {},
   "outputs": [],
   "source": [
    "lasso_reg = [best_score, alpha_degree, R2_score]"
   ]
  },
  {
   "cell_type": "code",
   "execution_count": 85,
   "metadata": {},
   "outputs": [
    {
     "data": {
      "text/plain": [
       "array([   0.        , 3597.59818155,  691.38256522,    0.        ,\n",
       "       -138.62658251,   -0.        ,   -0.        ,   -0.        ,\n",
       "       1968.06562834,    0.        ,   -0.        ,  562.8567835 ,\n",
       "         -0.        ,   -0.        ,    0.        ,   -0.        ,\n",
       "         42.26380445,    0.        ,    0.        ,    0.        ,\n",
       "          0.        ,  -12.23936896,  -45.48926127,   -0.        ,\n",
       "         44.75716598,   -0.        ,  -43.04522847,    0.        ,\n",
       "          0.        ,    0.        , 6526.49187799,    0.        ,\n",
       "          0.        ,   85.1068549 ,    0.        , 3978.60247418,\n",
       "        156.34648523,    0.        ,    0.        ,    0.        ,\n",
       "         -0.        ,    0.        ,   -0.        ,   92.47686495,\n",
       "         -0.        ,   -0.        ,    0.        ,    0.        ,\n",
       "          0.        ,    0.        ,   53.99047068,   -0.        ,\n",
       "        111.68362523,   -0.        ,  -42.28712766,    0.        ,\n",
       "       -197.58539248,   -0.        ,  157.44565966,    0.        ,\n",
       "         -0.        ,  -50.63218696,    0.        ,    0.        ,\n",
       "          0.        ,  -18.91177808])"
      ]
     },
     "execution_count": 85,
     "metadata": {},
     "output_type": "execute_result"
    }
   ],
   "source": [
    "grid.best_estimator_.named_steps['lasso_regression'].coef_"
   ]
  },
  {
   "cell_type": "code",
   "execution_count": 86,
   "metadata": {},
   "outputs": [
    {
     "data": {
      "text/plain": [
       "([0.8517098686270737, (None, 2), 0.869463179501786],\n",
       " [0.8514920934611669, (None, 2), 0.8692157125924178],\n",
       " [0.8522931183263784, (33.145710914187376, 2), 0.8691647800185991],\n",
       " [0.855033666178441, (97.64349540069045, 2), 0.8663602384916383])"
      ]
     },
     "execution_count": 86,
     "metadata": {},
     "output_type": "execute_result"
    }
   ],
   "source": [
    "lin_reg, lin_reg_scaled, ridge_reg, lasso_reg"
   ]
  },
  {
   "cell_type": "code",
   "execution_count": 87,
   "metadata": {
    "scrolled": true
   },
   "outputs": [
    {
     "data": {
      "text/html": [
       "<div>\n",
       "<style scoped>\n",
       "    .dataframe tbody tr th:only-of-type {\n",
       "        vertical-align: middle;\n",
       "    }\n",
       "\n",
       "    .dataframe tbody tr th {\n",
       "        vertical-align: top;\n",
       "    }\n",
       "\n",
       "    .dataframe thead th {\n",
       "        text-align: right;\n",
       "    }\n",
       "</style>\n",
       "<table border=\"1\" class=\"dataframe\">\n",
       "  <thead>\n",
       "    <tr style=\"text-align: right;\">\n",
       "      <th></th>\n",
       "      <th></th>\n",
       "      <th>Best_score</th>\n",
       "      <th>(Alpha, Polynomial_degree)</th>\n",
       "      <th>R2_score</th>\n",
       "    </tr>\n",
       "  </thead>\n",
       "  <tbody>\n",
       "    <tr>\n",
       "      <th rowspan=\"4\" valign=\"top\">Model_2</th>\n",
       "      <th>lin_reg</th>\n",
       "      <td>0.851710</td>\n",
       "      <td>(None, 2)</td>\n",
       "      <td>0.869463</td>\n",
       "    </tr>\n",
       "    <tr>\n",
       "      <th>lin_reg_scaled</th>\n",
       "      <td>0.851492</td>\n",
       "      <td>(None, 2)</td>\n",
       "      <td>0.869216</td>\n",
       "    </tr>\n",
       "    <tr>\n",
       "      <th>ridge_reg</th>\n",
       "      <td>0.852293</td>\n",
       "      <td>(33.145710914187376, 2)</td>\n",
       "      <td>0.869165</td>\n",
       "    </tr>\n",
       "    <tr>\n",
       "      <th>lasso_reg</th>\n",
       "      <td>0.855034</td>\n",
       "      <td>(97.64349540069045, 2)</td>\n",
       "      <td>0.866360</td>\n",
       "    </tr>\n",
       "  </tbody>\n",
       "</table>\n",
       "</div>"
      ],
      "text/plain": [
       "                        Best_score (Alpha, Polynomial_degree)  R2_score\n",
       "Model_2 lin_reg           0.851710                  (None, 2)  0.869463\n",
       "        lin_reg_scaled    0.851492                  (None, 2)  0.869216\n",
       "        ridge_reg         0.852293    (33.145710914187376, 2)  0.869165\n",
       "        lasso_reg         0.855034     (97.64349540069045, 2)  0.866360"
      ]
     },
     "execution_count": 87,
     "metadata": {},
     "output_type": "execute_result"
    }
   ],
   "source": [
    "ind = pd.MultiIndex.from_tuples([('Model_2','lin_reg'),('Model_2','lin_reg_scaled'),('Model_2','ridge_reg'),('Model_2','lasso_reg')])\n",
    "col = [('Best_score'),('(Alpha, Polynomial_degree)'),('R2_score')]\n",
    "Model_2 = pd.DataFrame([lin_reg,\n",
    "                      lin_reg_scaled,\n",
    "                      ridge_reg,\n",
    "                      lasso_reg], index=ind, columns=col)\n",
    "Model_2.sort_values(by='R2_score', ascending=False)"
   ]
  },
  {
   "cell_type": "markdown",
   "metadata": {},
   "source": [
    "**We see that the models using the discretized BMI variable achieved an accuracy close to 87%**"
   ]
  },
  {
   "cell_type": "code",
   "execution_count": 88,
   "metadata": {
    "scrolled": false
   },
   "outputs": [
    {
     "data": {
      "text/html": [
       "<div>\n",
       "<style scoped>\n",
       "    .dataframe tbody tr th:only-of-type {\n",
       "        vertical-align: middle;\n",
       "    }\n",
       "\n",
       "    .dataframe tbody tr th {\n",
       "        vertical-align: top;\n",
       "    }\n",
       "\n",
       "    .dataframe thead th {\n",
       "        text-align: right;\n",
       "    }\n",
       "</style>\n",
       "<table border=\"1\" class=\"dataframe\">\n",
       "  <thead>\n",
       "    <tr style=\"text-align: right;\">\n",
       "      <th></th>\n",
       "      <th></th>\n",
       "      <th>Best_score</th>\n",
       "      <th>(Alpha, Polynomial_degree)</th>\n",
       "      <th>R2_score</th>\n",
       "    </tr>\n",
       "  </thead>\n",
       "  <tbody>\n",
       "    <tr>\n",
       "      <th rowspan=\"4\" valign=\"top\">Model_2</th>\n",
       "      <th>lin_reg</th>\n",
       "      <td>0.851710</td>\n",
       "      <td>(None, 2)</td>\n",
       "      <td>0.869463</td>\n",
       "    </tr>\n",
       "    <tr>\n",
       "      <th>lin_reg_scaled</th>\n",
       "      <td>0.851492</td>\n",
       "      <td>(None, 2)</td>\n",
       "      <td>0.869216</td>\n",
       "    </tr>\n",
       "    <tr>\n",
       "      <th>ridge_reg</th>\n",
       "      <td>0.852293</td>\n",
       "      <td>(33.145710914187376, 2)</td>\n",
       "      <td>0.869165</td>\n",
       "    </tr>\n",
       "    <tr>\n",
       "      <th>lasso_reg</th>\n",
       "      <td>0.855034</td>\n",
       "      <td>(97.64349540069045, 2)</td>\n",
       "      <td>0.866360</td>\n",
       "    </tr>\n",
       "    <tr>\n",
       "      <th rowspan=\"4\" valign=\"top\">Model_1</th>\n",
       "      <th>lin_reg_scaled</th>\n",
       "      <td>0.829965</td>\n",
       "      <td>(None, 2)</td>\n",
       "      <td>0.847724</td>\n",
       "    </tr>\n",
       "    <tr>\n",
       "      <th>ridge_reg</th>\n",
       "      <td>0.831516</td>\n",
       "      <td>(31.62417284363078, 2)</td>\n",
       "      <td>0.847593</td>\n",
       "    </tr>\n",
       "    <tr>\n",
       "      <th>lasso_reg</th>\n",
       "      <td>0.832504</td>\n",
       "      <td>(73.7410737070725, 2)</td>\n",
       "      <td>0.846230</td>\n",
       "    </tr>\n",
       "    <tr>\n",
       "      <th>lin_reg</th>\n",
       "      <td>0.804983</td>\n",
       "      <td>(None, 2)</td>\n",
       "      <td>0.826398</td>\n",
       "    </tr>\n",
       "  </tbody>\n",
       "</table>\n",
       "</div>"
      ],
      "text/plain": [
       "                        Best_score (Alpha, Polynomial_degree)  R2_score\n",
       "Model_2 lin_reg           0.851710                  (None, 2)  0.869463\n",
       "        lin_reg_scaled    0.851492                  (None, 2)  0.869216\n",
       "        ridge_reg         0.852293    (33.145710914187376, 2)  0.869165\n",
       "        lasso_reg         0.855034     (97.64349540069045, 2)  0.866360\n",
       "Model_1 lin_reg_scaled    0.829965                  (None, 2)  0.847724\n",
       "        ridge_reg         0.831516     (31.62417284363078, 2)  0.847593\n",
       "        lasso_reg         0.832504      (73.7410737070725, 2)  0.846230\n",
       "        lin_reg           0.804983                  (None, 2)  0.826398"
      ]
     },
     "execution_count": 88,
     "metadata": {},
     "output_type": "execute_result"
    }
   ],
   "source": [
    "Results = pd.concat([Model_1,Model_2])\n",
    "Results.sort_values(by='R2_score', ascending=False)"
   ]
  },
  {
   "cell_type": "markdown",
   "metadata": {},
   "source": [
    "**Interestingly, models using the discretized version of the BMI variable outperformed the ones using the continuous version of the same variable.**"
   ]
  },
  {
   "cell_type": "code",
   "execution_count": 89,
   "metadata": {},
   "outputs": [
    {
     "name": "stdout",
     "output_type": "stream",
     "text": [
      "The total number of features is: 66]\n",
      "The total number of non null features is: 22]\n"
     ]
    },
    {
     "data": {
      "text/html": [
       "<div>\n",
       "<style scoped>\n",
       "    .dataframe tbody tr th:only-of-type {\n",
       "        vertical-align: middle;\n",
       "    }\n",
       "\n",
       "    .dataframe tbody tr th {\n",
       "        vertical-align: top;\n",
       "    }\n",
       "\n",
       "    .dataframe thead th {\n",
       "        text-align: right;\n",
       "    }\n",
       "</style>\n",
       "<table border=\"1\" class=\"dataframe\">\n",
       "  <thead>\n",
       "    <tr style=\"text-align: right;\">\n",
       "      <th></th>\n",
       "      <th>Feature</th>\n",
       "      <th>Coef</th>\n",
       "    </tr>\n",
       "  </thead>\n",
       "  <tbody>\n",
       "    <tr>\n",
       "      <th>0</th>\n",
       "      <td>smoker^2</td>\n",
       "      <td>6526.491878</td>\n",
       "    </tr>\n",
       "    <tr>\n",
       "      <th>1</th>\n",
       "      <td>smoker bmi_group_Obesity</td>\n",
       "      <td>3978.602474</td>\n",
       "    </tr>\n",
       "    <tr>\n",
       "      <th>2</th>\n",
       "      <td>age</td>\n",
       "      <td>3597.598182</td>\n",
       "    </tr>\n",
       "    <tr>\n",
       "      <th>3</th>\n",
       "      <td>bmi_group_Obesity</td>\n",
       "      <td>1968.065628</td>\n",
       "    </tr>\n",
       "    <tr>\n",
       "      <th>4</th>\n",
       "      <td>children</td>\n",
       "      <td>691.382565</td>\n",
       "    </tr>\n",
       "    <tr>\n",
       "      <th>5</th>\n",
       "      <td>age^2</td>\n",
       "      <td>562.856783</td>\n",
       "    </tr>\n",
       "    <tr>\n",
       "      <th>6</th>\n",
       "      <td>region_southwest bmi_group_Overweight</td>\n",
       "      <td>157.445660</td>\n",
       "    </tr>\n",
       "    <tr>\n",
       "      <th>7</th>\n",
       "      <td>smoker bmi_group_Overweight</td>\n",
       "      <td>156.346485</td>\n",
       "    </tr>\n",
       "    <tr>\n",
       "      <th>8</th>\n",
       "      <td>region_southeast region_southwest</td>\n",
       "      <td>111.683625</td>\n",
       "    </tr>\n",
       "    <tr>\n",
       "      <th>9</th>\n",
       "      <td>sex_male bmi_group_Overweight</td>\n",
       "      <td>92.476865</td>\n",
       "    </tr>\n",
       "    <tr>\n",
       "      <th>10</th>\n",
       "      <td>smoker region_southeast</td>\n",
       "      <td>85.106855</td>\n",
       "    </tr>\n",
       "    <tr>\n",
       "      <th>11</th>\n",
       "      <td>region_northwest bmi_group_Underweight</td>\n",
       "      <td>53.990471</td>\n",
       "    </tr>\n",
       "    <tr>\n",
       "      <th>12</th>\n",
       "      <td>children region_northwest</td>\n",
       "      <td>44.757166</td>\n",
       "    </tr>\n",
       "    <tr>\n",
       "      <th>13</th>\n",
       "      <td>age region_southeast</td>\n",
       "      <td>42.263804</td>\n",
       "    </tr>\n",
       "    <tr>\n",
       "      <th>14</th>\n",
       "      <td>children^2</td>\n",
       "      <td>-12.239369</td>\n",
       "    </tr>\n",
       "    <tr>\n",
       "      <th>15</th>\n",
       "      <td>bmi_group_Underweight^2</td>\n",
       "      <td>-18.911778</td>\n",
       "    </tr>\n",
       "    <tr>\n",
       "      <th>16</th>\n",
       "      <td>region_southeast bmi_group_Overweight</td>\n",
       "      <td>-42.287128</td>\n",
       "    </tr>\n",
       "    <tr>\n",
       "      <th>17</th>\n",
       "      <td>children region_southwest</td>\n",
       "      <td>-43.045228</td>\n",
       "    </tr>\n",
       "    <tr>\n",
       "      <th>18</th>\n",
       "      <td>children smoker</td>\n",
       "      <td>-45.489261</td>\n",
       "    </tr>\n",
       "    <tr>\n",
       "      <th>19</th>\n",
       "      <td>bmi_group_Obesity bmi_group_Overweight</td>\n",
       "      <td>-50.632187</td>\n",
       "    </tr>\n",
       "    <tr>\n",
       "      <th>20</th>\n",
       "      <td>sex_male</td>\n",
       "      <td>-138.626583</td>\n",
       "    </tr>\n",
       "    <tr>\n",
       "      <th>21</th>\n",
       "      <td>region_southwest^2</td>\n",
       "      <td>-197.585392</td>\n",
       "    </tr>\n",
       "  </tbody>\n",
       "</table>\n",
       "</div>"
      ],
      "text/plain": [
       "                                   Feature         Coef\n",
       "0                                 smoker^2  6526.491878\n",
       "1                 smoker bmi_group_Obesity  3978.602474\n",
       "2                                      age  3597.598182\n",
       "3                        bmi_group_Obesity  1968.065628\n",
       "4                                 children   691.382565\n",
       "5                                    age^2   562.856783\n",
       "6    region_southwest bmi_group_Overweight   157.445660\n",
       "7              smoker bmi_group_Overweight   156.346485\n",
       "8        region_southeast region_southwest   111.683625\n",
       "9            sex_male bmi_group_Overweight    92.476865\n",
       "10                 smoker region_southeast    85.106855\n",
       "11  region_northwest bmi_group_Underweight    53.990471\n",
       "12               children region_northwest    44.757166\n",
       "13                    age region_southeast    42.263804\n",
       "14                              children^2   -12.239369\n",
       "15                 bmi_group_Underweight^2   -18.911778\n",
       "16   region_southeast bmi_group_Overweight   -42.287128\n",
       "17               children region_southwest   -43.045228\n",
       "18                         children smoker   -45.489261\n",
       "19  bmi_group_Obesity bmi_group_Overweight   -50.632187\n",
       "20                                sex_male  -138.626583\n",
       "21                      region_southwest^2  -197.585392"
      ]
     },
     "execution_count": 89,
     "metadata": {},
     "output_type": "execute_result"
    }
   ],
   "source": [
    "df_importances = pd.DataFrame(zip(grid.best_estimator_.named_steps['polynomial_features'].get_feature_names(input_features=data2.columns),\n",
    "                 grid.best_estimator_.named_steps['lasso_regression'].coef_,\n",
    "), columns=['Feature', 'Coef'])\n",
    "\n",
    "print('The total number of features is: {}]'.format(df_importances.shape[0]))\n",
    "df_importances.drop(df_importances[df_importances['Coef']==0].index, inplace=True)\n",
    "df_importances.sort_values(by='Coef', ascending=False, inplace=True)\n",
    "df_importances.reset_index(inplace=True, drop=True)\n",
    "print('The total number of non null features is: {}]'.format(df_importances.shape[0]))\n",
    "df_importances"
   ]
  },
  {
   "cell_type": "markdown",
   "metadata": {},
   "source": [
    "**Even thought the LASSO model is ranked fourth, it's still one of the best models due to its interpretability. By this we mean that it is the most charming because it reduces the magnitude of the coefficients and also nullifies many features in our case 66 - 22 = 44 features were nullified.**\n"
   ]
  },
  {
   "cell_type": "markdown",
   "metadata": {},
   "source": [
    "## Conclusion\n",
    "\n",
    "In this report, our goal was to prepare our data to predict the total charges that would be billed to a prospective client, as well as familiarizing our selves with this data.\n",
    "\n",
    "We used EDA techniques, hypothesis testing as well as machine learning to draw insights about our data.\n",
    "\n",
    "We made a comparison between the continuous and discretized versions of the BMI variable, and we saw how powerful the predictability of the discretized version was, it was able to give powerful accuracy due to the freedom that it gives to models to use different subsets of the variable and grant different magnitudes according to the level of importance of each subset.\n",
    "\n",
    "Finally, we got an accuracy of 87% and we chose LASSO from the 4 models since it combines at the same time predictive power and interpretability.\n",
    "\n",
    "#### Possible improvements:\n",
    "The BMI descretized version had great impact over the predictive power of the models, we created the categories based on the CDC norms. Would the predictive power increase if we create more categories ? Since almost half our data points are included in the Obesity range. Or maybe if we aggregate the lower categories we would have a greater effect ?"
   ]
  }
 ],
 "metadata": {
  "kernelspec": {
   "display_name": "Python 3",
   "language": "python",
   "name": "python3"
  },
  "language_info": {
   "codemirror_mode": {
    "name": "ipython",
    "version": 3
   },
   "file_extension": ".py",
   "mimetype": "text/x-python",
   "name": "python",
   "nbconvert_exporter": "python",
   "pygments_lexer": "ipython3",
   "version": "3.8.8"
  }
 },
 "nbformat": 4,
 "nbformat_minor": 4
}
