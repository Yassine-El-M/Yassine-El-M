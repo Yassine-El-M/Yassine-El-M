{
 "cells": [
  {
   "cell_type": "code",
   "execution_count": 7,
   "id": "1451ba5e-6e2f-4aef-801d-b67b5981d223",
   "metadata": {},
   "outputs": [
    {
     "name": "stdout",
     "output_type": "stream",
     "text": [
      "Requirement already satisfied: bs4 in /home/jupyterlab/conda/envs/python/lib/python3.6/site-packages (0.0.1)\n",
      "Requirement already satisfied: beautifulsoup4 in /home/jupyterlab/conda/envs/python/lib/python3.6/site-packages (from bs4) (4.9.3)\n",
      "Requirement already satisfied: soupsieve>1.2; python_version >= \"3.0\" in /home/jupyterlab/conda/envs/python/lib/python3.6/site-packages (from beautifulsoup4->bs4) (2.2.1)\n",
      "Requirement already satisfied: requests-html in /home/jupyterlab/conda/envs/python/lib/python3.6/site-packages (0.10.0)\n",
      "Requirement already satisfied: fake-useragent in /home/jupyterlab/conda/envs/python/lib/python3.6/site-packages (from requests-html) (0.1.11)\n",
      "Requirement already satisfied: requests in /home/jupyterlab/conda/envs/python/lib/python3.6/site-packages (from requests-html) (2.25.1)\n",
      "Requirement already satisfied: parse in /home/jupyterlab/conda/envs/python/lib/python3.6/site-packages (from requests-html) (1.19.0)\n",
      "Requirement already satisfied: w3lib in /home/jupyterlab/conda/envs/python/lib/python3.6/site-packages (from requests-html) (1.22.0)\n",
      "Requirement already satisfied: pyquery in /home/jupyterlab/conda/envs/python/lib/python3.6/site-packages (from requests-html) (1.4.3)\n",
      "Requirement already satisfied: pyppeteer>=0.0.14 in /home/jupyterlab/conda/envs/python/lib/python3.6/site-packages (from requests-html) (0.2.5)\n",
      "Requirement already satisfied: bs4 in /home/jupyterlab/conda/envs/python/lib/python3.6/site-packages (from requests-html) (0.0.1)\n",
      "Requirement already satisfied: idna<3,>=2.5 in /home/jupyterlab/conda/envs/python/lib/python3.6/site-packages (from requests->requests-html) (2.10)\n",
      "Requirement already satisfied: urllib3<1.27,>=1.21.1 in /home/jupyterlab/conda/envs/python/lib/python3.6/site-packages (from requests->requests-html) (1.26.5)\n",
      "Requirement already satisfied: certifi>=2017.4.17 in /home/jupyterlab/conda/envs/python/lib/python3.6/site-packages (from requests->requests-html) (2020.12.5)\n",
      "Requirement already satisfied: chardet<5,>=3.0.2 in /home/jupyterlab/conda/envs/python/lib/python3.6/site-packages (from requests->requests-html) (4.0.0)\n",
      "Requirement already satisfied: six>=1.4.1 in /home/jupyterlab/conda/envs/python/lib/python3.6/site-packages (from w3lib->requests-html) (1.16.0)\n",
      "Requirement already satisfied: lxml>=2.1 in /home/jupyterlab/conda/envs/python/lib/python3.6/site-packages (from pyquery->requests-html) (4.6.3)\n",
      "Requirement already satisfied: cssselect>0.7.9 in /home/jupyterlab/conda/envs/python/lib/python3.6/site-packages (from pyquery->requests-html) (1.1.0)\n",
      "Requirement already satisfied: appdirs<2.0.0,>=1.4.3 in /home/jupyterlab/conda/envs/python/lib/python3.6/site-packages (from pyppeteer>=0.0.14->requests-html) (1.4.4)\n",
      "Requirement already satisfied: tqdm<5.0.0,>=4.42.1 in /home/jupyterlab/conda/envs/python/lib/python3.6/site-packages (from pyppeteer>=0.0.14->requests-html) (4.60.0)\n",
      "Requirement already satisfied: importlib-metadata<3.0.0,>=2.1.1; python_version < \"3.8\" in /home/jupyterlab/conda/envs/python/lib/python3.6/site-packages (from pyppeteer>=0.0.14->requests-html) (2.1.1)\n",
      "Requirement already satisfied: websockets<9.0,>=8.1 in /home/jupyterlab/conda/envs/python/lib/python3.6/site-packages (from pyppeteer>=0.0.14->requests-html) (8.1)\n",
      "Requirement already satisfied: pyee<9.0.0,>=8.1.0 in /home/jupyterlab/conda/envs/python/lib/python3.6/site-packages (from pyppeteer>=0.0.14->requests-html) (8.1.0)\n",
      "Requirement already satisfied: beautifulsoup4 in /home/jupyterlab/conda/envs/python/lib/python3.6/site-packages (from bs4->requests-html) (4.9.3)\n",
      "Requirement already satisfied: zipp>=0.5 in /home/jupyterlab/conda/envs/python/lib/python3.6/site-packages (from importlib-metadata<3.0.0,>=2.1.1; python_version < \"3.8\"->pyppeteer>=0.0.14->requests-html) (3.4.1)\n",
      "Requirement already satisfied: soupsieve>1.2; python_version >= \"3.0\" in /home/jupyterlab/conda/envs/python/lib/python3.6/site-packages (from beautifulsoup4->bs4->requests-html) (2.2.1)\n"
     ]
    }
   ],
   "source": [
    "!pip install bs4\n",
    "!pip install requests-html\n",
    "import re\n",
    "from requests_html import HTMLSession"
   ]
  },
  {
   "cell_type": "code",
   "execution_count": 8,
   "id": "4148bc8f-771d-4654-b7fa-000e4f1288cb",
   "metadata": {},
   "outputs": [],
   "source": [
    "from bs4 import BeautifulSoup\n",
    "import requests"
   ]
  },
  {
   "cell_type": "code",
   "execution_count": 9,
   "id": "b8671e87-a285-42b5-82e2-c610c65e917b",
   "metadata": {},
   "outputs": [],
   "source": [
    "url = \"https://www.industryventures.com/investments/\"\n",
    "data = requests.get(url).text\n",
    "soup = BeautifulSoup(data,\"html5lib\")"
   ]
  },
  {
   "cell_type": "code",
   "execution_count": 10,
   "id": "642c89e6-0343-4ce3-a6c0-aacf9b2f9583",
   "metadata": {},
   "outputs": [],
   "source": [
    "links = []\n",
    "for link in soup.find_all(href=True):  # in html anchor/link is represented by the tag <a>\n",
    "\n",
    "    links.append(link.get('href'))"
   ]
  },
  {
   "cell_type": "code",
   "execution_count": 11,
   "id": "1ef4a2e8-72aa-47d1-8db5-162114bf772b",
   "metadata": {},
   "outputs": [
    {
     "data": {
      "text/plain": [
       "199"
      ]
     },
     "execution_count": 11,
     "metadata": {},
     "output_type": "execute_result"
    }
   ],
   "source": [
    "links.index(\"https://www.ziprealty.com/\")"
   ]
  },
  {
   "cell_type": "code",
   "execution_count": null,
   "id": "9cae4d89-0521-4ca2-a6d9-45d173bb241a",
   "metadata": {},
   "outputs": [],
   "source": [
    "for urls in links[0:128]:\n",
    "    "
   ]
  },
  {
   "cell_type": "code",
   "execution_count": null,
   "id": "ffa3324a-168b-4a0d-94d3-5f401ee83613",
   "metadata": {},
   "outputs": [],
   "source": [
    "url = \"http://stacksports.com/\"\n",
    "data = requests.get(url).text\n",
    "soup = BeautifulSoup(data,\"html5lib\")\n",
    "links = []\n",
    "for link in soup.find_all(href=True):\n",
    "\n",
    "    links.append(link.get('href'))\n",
    "filter_object = filter(lambda a: 'com/contact' in a, links)\n",
    "contact = list(filter_object)[0]\n",
    "contact"
   ]
  },
  {
   "cell_type": "code",
   "execution_count": null,
   "id": "3512dc7b-8a80-4754-b4dd-97f099a22751",
   "metadata": {},
   "outputs": [],
   "source": [
    "filter_object = filter(lambda a: 'facebook' in a, links)\n",
    "facebook = list(filter_object)[0]\n",
    "facebook"
   ]
  },
  {
   "cell_type": "code",
   "execution_count": null,
   "id": "6ecce61e-be72-4d38-bc39-9b49abfa7b38",
   "metadata": {},
   "outputs": [],
   "source": [
    "!pip install facebook-scraper\n",
    "from facebook_scraper import get_posts"
   ]
  },
  {
   "cell_type": "code",
   "execution_count": null,
   "id": "b7d2623d-e7c2-4a03-82b6-4443058a9f59",
   "metadata": {},
   "outputs": [],
   "source": [
    "import json\n",
    "fbcookie =[ {\n",
    "    \"domain\": \".facebook.com\",\n",
    "    \"expirationDate\": 1656253621.249113,\n",
    "    \"hostOnly\": False,\n",
    "    \"httpOnly\": False,\n",
    "    \"name\": \"c_user\",\n",
    "    \"path\": \"/\",\n",
    "    \"sameSite\": \"no_restriction\",\n",
    "    \"secure\": True,\n",
    "    \"session\": False,\n",
    "    \"storeId\": \"0\",\n",
    "    \"value\": \"100009962534588\",\n",
    "    \"id\": 1\n",
    "},\n",
    "{\n",
    "    \"domain\": \".facebook.com\",\n",
    "    \"expirationDate\": 1687777218.887131,\n",
    "    \"hostOnly\": False,\n",
    "    \"httpOnly\": True,\n",
    "    \"name\": \"datr\",\n",
    "    \"path\": \"/\",\n",
    "    \"sameSite\": \"no_restriction\",\n",
    "    \"secure\": True,\n",
    "    \"session\": False,\n",
    "    \"storeId\": \"0\",\n",
    "    \"value\": \"owjXYD45UjgyXDhl13y9f6_X\",\n",
    "    \"id\": 2\n",
    "},\n",
    "{\n",
    "    \"domain\": \".facebook.com\",\n",
    "    \"expirationDate\": 1632493618.249604,\n",
    "    \"hostOnly\": False,\n",
    "    \"httpOnly\": True,\n",
    "    \"name\": \"fr\",\n",
    "    \"path\": \"/\",\n",
    "    \"sameSite\": \"no_restriction\",\n",
    "    \"secure\": True,\n",
    "    \"session\": False,\n",
    "    \"storeId\": \"0\",\n",
    "    \"value\": \"1y0fANlO8kKCWTauz.AWXdS2frSO7g4azB6Shd0BMTRrU.Bg1wij.kN.AAA.0.0.Bg1zk1.AWV50lcEhKs\",\n",
    "    \"id\": 3\n",
    "},\n",
    "{\n",
    "    \"domain\": \".facebook.com\",\n",
    "    \"expirationDate\": 1687789624.248702,\n",
    "    \"hostOnly\": False,\n",
    "    \"httpOnly\": True,\n",
    "    \"name\": \"sb\",\n",
    "    \"path\": \"/\",\n",
    "    \"sameSite\": \"no_restriction\",\n",
    "    \"secure\": True,\n",
    "    \"session\": False,\n",
    "    \"storeId\": \"0\",\n",
    "    \"value\": \"owjXYFiDXzDNZRhxMPGHgGnD\",\n",
    "    \"id\": 4\n",
    "},\n",
    "{\n",
    "    \"domain\": \".facebook.com\",\n",
    "    \"expirationDate\": 1624807625.450528,\n",
    "    \"hostOnly\": False,\n",
    "    \"httpOnly\": True,\n",
    "    \"name\": \"spin\",\n",
    "    \"path\": \"/\",\n",
    "    \"sameSite\": \"no_restriction\",\n",
    "    \"secure\": True,\n",
    "    \"session\": False,\n",
    "    \"storeId\": \"0\",\n",
    "    \"value\": \"r.1004044193_b.trunk_t.1624717625_s.1_v.2_\",\n",
    "    \"id\": 5\n",
    "},\n",
    "{\n",
    "    \"domain\": \".facebook.com\",\n",
    "    \"expirationDate\": 1625322408,\n",
    "    \"hostOnly\": False,\n",
    "    \"httpOnly\": False,\n",
    "    \"name\": \"wd\",\n",
    "    \"path\": \"/\",\n",
    "    \"sameSite\": \"lax\",\n",
    "    \"secure\": True,\n",
    "    \"session\": False,\n",
    "    \"storeId\": \"0\",\n",
    "    \"value\": \"1366x657\",\n",
    "    \"id\": 6\n",
    "},\n",
    "{\n",
    "    \"domain\": \".facebook.com\",\n",
    "    \"expirationDate\": 1656253621.249358,\n",
    "    \"hostOnly\": False,\n",
    "    \"httpOnly\": True,\n",
    "    \"name\": \"xs\",\n",
    "    \"path\": \"/\",\n",
    "    \"sameSite\": \"no_restriction\",\n",
    "    \"secure\": True,\n",
    "    \"session\": False,\n",
    "    \"storeId\": \"0\",\n",
    "    \"value\": \"41%3AXXKNcvfOS97V_g%3A2%3A1624717622%3A-1%3A6933\",\n",
    "    \"id\": 7\n",
    "} ]"
   ]
  },
  {
   "cell_type": "code",
   "execution_count": null,
   "id": "2662b999-eae0-47bc-8d19-96212e150244",
   "metadata": {},
   "outputs": [],
   "source": [
    "with open('fbcookie.json', 'w') as file:  # writing JSON object\n",
    "    json.dump(fbcookie, file)"
   ]
  },
  {
   "cell_type": "code",
   "execution_count": null,
   "id": "8e78a900-ab74-4fbc-9fdb-aa13aa4b1e15",
   "metadata": {},
   "outputs": [],
   "source": [
    "path = \"/resources/labs/PY0101EN/fbcookie.json\"\n"
   ]
  },
  {
   "cell_type": "code",
   "execution_count": null,
   "id": "724b3311-a8de-47e5-894f-515582addc04",
   "metadata": {},
   "outputs": [],
   "source": [
    "for post in get_posts('nintendo', pages=1,  cookies = path):\n",
    "    print(post['text'][:50])"
   ]
  },
  {
   "cell_type": "code",
   "execution_count": null,
   "id": "39fdb7ec-bb3a-45da-a6bb-142a16dd0728",
   "metadata": {},
   "outputs": [],
   "source": [
    "from facebook_scraper import get_group_info\n",
    "get_group_info(\"nintendo\") # or get_group_info(\"latesthairstyles\", cookies=\"cookies.txt\")"
   ]
  },
  {
   "cell_type": "code",
   "execution_count": null,
   "id": "654a306b-cecb-44f1-baec-36a66dc1b8b7",
   "metadata": {},
   "outputs": [],
   "source": [
    "from bs4 import BeautifulSoup\n",
    "import requests\n",
    "\n",
    "response = requests.get(\"https://www.facebook.com/pg/officialstackoverflow/about/?ref=page_internal\")\n",
    "html = response.content\n",
    "soup = BeautifulSoup(html, \"html\")\n",
    "mission_statement = soup.find('div', attrs={'class': '_3-8w'})\n",
    "print(mission_statement.text)"
   ]
  },
  {
   "cell_type": "code",
   "execution_count": null,
   "id": "c8c37772-557c-4c59-805e-bc2c1239a1ca",
   "metadata": {},
   "outputs": [],
   "source": [
    "from facebook_scraper import get_posts\n",
    "\n",
    "for post in get_posts(\"IBM\", pages=10):\n",
    "    print(post['text'],'\\n')"
   ]
  },
  {
   "cell_type": "code",
   "execution_count": null,
   "id": "e7bf5a3a-1699-4f9c-b7cc-a1a32a4f7eea",
   "metadata": {},
   "outputs": [],
   "source": [
    "from facebook_scraper import get_profile\n",
    "get_profile(\"2Checkout.2CO\", cookies = path)"
   ]
  },
  {
   "cell_type": "code",
   "execution_count": null,
   "id": "b3876590-6902-483c-8f49-d080cbc3836f",
   "metadata": {},
   "outputs": [],
   "source": [
    "url = \"https://www.facebook.com/stacksports/about\"\n",
    "data = requests.get(url).text\n",
    "soup = BeautifulSoup(data,\"html5lib\")\n",
    "links = []\n",
    "for link in soup.find_all(href=True):\n",
    "\n",
    "    links.append(link.get('href'))\n"
   ]
  },
  {
   "cell_type": "code",
   "execution_count": null,
   "id": "6aff5802-293f-4213-8db0-fbd9f85ee34b",
   "metadata": {},
   "outputs": [],
   "source": [
    "!pip install selenium\n",
    "from selenium import webdriver\n",
    "from selenium.webdriver.support.ui import WebDriverWait\n",
    "# Step 1) Open Firefox \n",
    "browser = webdriver.Chrome()\n",
    "# Step 2) Navigate to Facebook\n",
    "browser.get(\"http://www.facebook.com\")\n",
    "# Step 3) Search & Enter the Email or Phone field & Enter Password\n",
    "username = browser.find_element_by_id(\"email\")\n",
    "password = browser.find_element_by_id(\"pass\")\n",
    "submit   = browser.find_element_by_id(\"loginbutton\")\n",
    "username.send_keys(\"yassin1konoha@hotmail.com\")\n",
    "password.send_keys(\"Naruball1\")\n",
    "# Step 4) Click Login\n",
    "submit.click()"
   ]
  },
  {
   "cell_type": "code",
   "execution_count": null,
   "id": "2ae68ef7-2ecc-480f-a676-ea685c0ae7dc",
   "metadata": {},
   "outputs": [],
   "source": [
    "import cookielib\n",
    "import urllib\n",
    "import urllib2\n",
    "\n",
    "# set these to whatever your fb account is\n",
    "fb_username = \"yassin1konoha@hotmail.com\"\n",
    "fb_password = \"Naruball1\"\n",
    "\n",
    "class WebGamePlayer(object):\n",
    "\n",
    "    def __init__(self, login, password):\n",
    "        \"\"\" Start up... \"\"\"\n",
    "        self.login = login\n",
    "        self.password = password\n",
    "\n",
    "        self.cj = cookielib.CookieJar()\n",
    "        self.opener = urllib2.build_opener(\n",
    "            urllib2.HTTPRedirectHandler(),\n",
    "            urllib2.HTTPHandler(debuglevel=0),\n",
    "            urllib2.HTTPSHandler(debuglevel=0),\n",
    "            urllib2.HTTPCookieProcessor(self.cj)\n",
    "        )\n",
    "        self.opener.addheaders = [\n",
    "            ('User-agent', ('Mozilla/4.0 (compatible; MSIE 6.0; '\n",
    "                           'Windows NT 5.2; .NET CLR 1.1.4322)'))\n",
    "        ]\n",
    "\n",
    "        # need this twice - once to set cookies, once to log in...\n",
    "        self.loginToFacebook()\n",
    "        self.loginToFacebook()\n",
    "\n",
    "    def loginToFacebook(self):\n",
    "        \"\"\"\n",
    "        Handle login. This should populate our cookie jar.\n",
    "        \"\"\"\n",
    "        login_data = urllib.urlencode({\n",
    "            'email' : self.login,\n",
    "            'pass' : self.password,\n",
    "        })\n",
    "        response = self.opener.open(\"https://login.facebook.com/login.php\", login_data)\n",
    "        return ''.join(response.readlines())"
   ]
  },
  {
   "cell_type": "code",
   "execution_count": null,
   "id": "bb2206e0-40bb-4fc1-a203-bc00b15a8d78",
   "metadata": {},
   "outputs": [],
   "source": [
    "ls = ['Hello from AskPython', 'Hello', 'Hello boy!', 'Hi']\n",
    " \n",
    "if any(\"rom\" in word for word in ls):\n",
    "    print('\\'AskPython\\' is there inside the list!')\n",
    "else:\n",
    "    print('\\'AskPython\\' is not there inside the list')"
   ]
  },
  {
   "cell_type": "code",
   "execution_count": null,
   "id": "14593c5a-bb80-4939-bbb1-c1917864fe02",
   "metadata": {},
   "outputs": [],
   "source": [
    "ls = ['Hello from AskPython', 'Hello', 'Hello boy!', 'Hi']\n",
    " \n",
    "# The second parameter is the input iterable\n",
    "# The filter() applies the lambda to the iterable\n",
    "# and only returns all matches where the lambda evaluates\n",
    "# to true\n",
    "filter_object = filter(lambda a: 'com/contact' in a, links)\n",
    " \n",
    "# Convert the filter object to list\n",
    "print(list(filter_object))"
   ]
  },
  {
   "cell_type": "code",
   "execution_count": null,
   "id": "5979beee-ec50-49fe-9afa-352532cc5d36",
   "metadata": {},
   "outputs": [],
   "source": [
    "import asyncio\n",
    "if asyncio.get_event_loop().is_running(): # Only patch if needed (i.e. running in Notebook, Spyder, etc)\n",
    "    import nest_asyncio\n",
    "    nest_asyncio.apply()"
   ]
  },
  {
   "cell_type": "code",
   "execution_count": 5,
   "id": "9e4944d7-d58c-4de7-95ab-1c018c481351",
   "metadata": {},
   "outputs": [
    {
     "ename": "RuntimeError",
     "evalue": "Cannot use HTMLSession within an existing event loop. Use AsyncHTMLSession instead.",
     "output_type": "error",
     "traceback": [
      "\u001b[0;31m---------------------------------------------------------------------------\u001b[0m",
      "\u001b[0;31mRuntimeError\u001b[0m                              Traceback (most recent call last)",
      "\u001b[0;32m<ipython-input-5-8be994830a82>\u001b[0m in \u001b[0;36m<module>\u001b[0;34m\u001b[0m\n\u001b[1;32m      7\u001b[0m \u001b[0;31m# for JAVA-Script driven websites\u001b[0m\u001b[0;34m\u001b[0m\u001b[0;34m\u001b[0m\u001b[0;34m\u001b[0m\u001b[0m\n\u001b[1;32m      8\u001b[0m \u001b[0;34m\u001b[0m\u001b[0m\n\u001b[0;32m----> 9\u001b[0;31m \u001b[0mr\u001b[0m\u001b[0;34m.\u001b[0m\u001b[0mhtml\u001b[0m\u001b[0;34m.\u001b[0m\u001b[0mrender\u001b[0m\u001b[0;34m(\u001b[0m\u001b[0mtimeout\u001b[0m\u001b[0;34m=\u001b[0m\u001b[0;36m20\u001b[0m\u001b[0;34m)\u001b[0m\u001b[0;34m\u001b[0m\u001b[0;34m\u001b[0m\u001b[0m\n\u001b[0m\u001b[1;32m     10\u001b[0m \u001b[0;32mfor\u001b[0m \u001b[0mre_match\u001b[0m \u001b[0;32min\u001b[0m \u001b[0mre\u001b[0m\u001b[0;34m.\u001b[0m\u001b[0mfinditer\u001b[0m\u001b[0;34m(\u001b[0m\u001b[0mEMAIL_REGEX\u001b[0m\u001b[0;34m,\u001b[0m \u001b[0mr\u001b[0m\u001b[0;34m.\u001b[0m\u001b[0mhtml\u001b[0m\u001b[0;34m.\u001b[0m\u001b[0mraw_html\u001b[0m\u001b[0;34m.\u001b[0m\u001b[0mdecode\u001b[0m\u001b[0;34m(\u001b[0m\u001b[0;34m)\u001b[0m\u001b[0;34m)\u001b[0m\u001b[0;34m:\u001b[0m\u001b[0;34m\u001b[0m\u001b[0;34m\u001b[0m\u001b[0m\n\u001b[1;32m     11\u001b[0m     \u001b[0mprint\u001b[0m\u001b[0;34m(\u001b[0m\u001b[0mre_match\u001b[0m\u001b[0;34m.\u001b[0m\u001b[0mgroup\u001b[0m\u001b[0;34m(\u001b[0m\u001b[0;34m)\u001b[0m\u001b[0;34m)\u001b[0m\u001b[0;34m\u001b[0m\u001b[0;34m\u001b[0m\u001b[0m\n",
      "\u001b[0;32m~/conda/envs/python/lib/python3.6/site-packages/requests_html.py\u001b[0m in \u001b[0;36mrender\u001b[0;34m(self, retries, script, wait, scrolldown, sleep, reload, timeout, keep_page)\u001b[0m\n\u001b[1;32m    584\u001b[0m         \"\"\"\n\u001b[1;32m    585\u001b[0m \u001b[0;34m\u001b[0m\u001b[0m\n\u001b[0;32m--> 586\u001b[0;31m         \u001b[0mself\u001b[0m\u001b[0;34m.\u001b[0m\u001b[0mbrowser\u001b[0m \u001b[0;34m=\u001b[0m \u001b[0mself\u001b[0m\u001b[0;34m.\u001b[0m\u001b[0msession\u001b[0m\u001b[0;34m.\u001b[0m\u001b[0mbrowser\u001b[0m  \u001b[0;31m# Automatically create a event loop and browser\u001b[0m\u001b[0;34m\u001b[0m\u001b[0;34m\u001b[0m\u001b[0m\n\u001b[0m\u001b[1;32m    587\u001b[0m         \u001b[0mcontent\u001b[0m \u001b[0;34m=\u001b[0m \u001b[0;32mNone\u001b[0m\u001b[0;34m\u001b[0m\u001b[0;34m\u001b[0m\u001b[0m\n\u001b[1;32m    588\u001b[0m \u001b[0;34m\u001b[0m\u001b[0m\n",
      "\u001b[0;32m~/conda/envs/python/lib/python3.6/site-packages/requests_html.py\u001b[0m in \u001b[0;36mbrowser\u001b[0;34m(self)\u001b[0m\n\u001b[1;32m    727\u001b[0m             \u001b[0mself\u001b[0m\u001b[0;34m.\u001b[0m\u001b[0mloop\u001b[0m \u001b[0;34m=\u001b[0m \u001b[0masyncio\u001b[0m\u001b[0;34m.\u001b[0m\u001b[0mget_event_loop\u001b[0m\u001b[0;34m(\u001b[0m\u001b[0;34m)\u001b[0m\u001b[0;34m\u001b[0m\u001b[0;34m\u001b[0m\u001b[0m\n\u001b[1;32m    728\u001b[0m             \u001b[0;32mif\u001b[0m \u001b[0mself\u001b[0m\u001b[0;34m.\u001b[0m\u001b[0mloop\u001b[0m\u001b[0;34m.\u001b[0m\u001b[0mis_running\u001b[0m\u001b[0;34m(\u001b[0m\u001b[0;34m)\u001b[0m\u001b[0;34m:\u001b[0m\u001b[0;34m\u001b[0m\u001b[0;34m\u001b[0m\u001b[0m\n\u001b[0;32m--> 729\u001b[0;31m                 \u001b[0;32mraise\u001b[0m \u001b[0mRuntimeError\u001b[0m\u001b[0;34m(\u001b[0m\u001b[0;34m\"Cannot use HTMLSession within an existing event loop. Use AsyncHTMLSession instead.\"\u001b[0m\u001b[0;34m)\u001b[0m\u001b[0;34m\u001b[0m\u001b[0;34m\u001b[0m\u001b[0m\n\u001b[0m\u001b[1;32m    730\u001b[0m             \u001b[0mself\u001b[0m\u001b[0;34m.\u001b[0m\u001b[0m_browser\u001b[0m \u001b[0;34m=\u001b[0m \u001b[0mself\u001b[0m\u001b[0;34m.\u001b[0m\u001b[0mloop\u001b[0m\u001b[0;34m.\u001b[0m\u001b[0mrun_until_complete\u001b[0m\u001b[0;34m(\u001b[0m\u001b[0msuper\u001b[0m\u001b[0;34m(\u001b[0m\u001b[0;34m)\u001b[0m\u001b[0;34m.\u001b[0m\u001b[0mbrowser\u001b[0m\u001b[0;34m)\u001b[0m\u001b[0;34m\u001b[0m\u001b[0;34m\u001b[0m\u001b[0m\n\u001b[1;32m    731\u001b[0m         \u001b[0;32mreturn\u001b[0m \u001b[0mself\u001b[0m\u001b[0;34m.\u001b[0m\u001b[0m_browser\u001b[0m\u001b[0;34m\u001b[0m\u001b[0;34m\u001b[0m\u001b[0m\n",
      "\u001b[0;31mRuntimeError\u001b[0m: Cannot use HTMLSession within an existing event loop. Use AsyncHTMLSession instead."
     ]
    }
   ],
   "source": [
    "url = \"https://www.alertlogic.com/\"\n",
    "EMAIL_REGEX = r\"\"\"(?:[a-z0-9!#$%&'*+/=?^_`{|}~-]+(?:\\.[a-z0-9!#$%&'*+/=?^_`{|}~-]+)*|\"(?:[\\x01-\\x08\\x0b\\x0c\\x0e-\\x1f\\x21\\x23-\\x5b\\x5d-\\x7f]|\\\\[\\x01-\\x09\\x0b\\x0c\\x0e-\\x7f])*\")@(?:(?:[a-z0-9](?:[a-z0-9-]*[a-z0-9])?\\.)+[a-z0-9](?:[a-z0-9-]*[a-z0-9])?|\\[(?:(?:(2(5[0-5]|[0-4][0-9])|1[0-9][0-9]|[1-9]?[0-9]))\\.){3}(?:(2(5[0-5]|[0-4][0-9])|1[0-9][0-9]|[1-9]?[0-9])|[a-z0-9-]*[a-z0-9]:(?:[\\x01-\\x08\\x0b\\x0c\\x0e-\\x1f\\x21-\\x5a\\x53-\\x7f]|\\\\[\\x01-\\x09\\x0b\\x0c\\x0e-\\x7f])+)\\])\"\"\"\n",
    "# initiate an HTTP session\n",
    "session = HTMLSession()\n",
    "# get the HTTP Response\n",
    "r = session.get(url)\n",
    "# for JAVA-Script driven websites\n",
    "\n",
    "r.html.render(timeout=20)\n",
    "for re_match in re.finditer(EMAIL_REGEX, r.html.raw_html.decode()):\n",
    "    print(re_match.group())"
   ]
  },
  {
   "cell_type": "code",
   "execution_count": 12,
   "id": "11e3990f-28b5-4c2b-b354-4c4985216edf",
   "metadata": {},
   "outputs": [
    {
     "ename": "ValueError",
     "evalue": "unknown url type: 'h'",
     "output_type": "error",
     "traceback": [
      "\u001b[0;31m---------------------------------------------------------------------------\u001b[0m",
      "\u001b[0;31mValueError\u001b[0m                                Traceback (most recent call last)",
      "\u001b[0;32m<ipython-input-12-02cfbd9cf629>\u001b[0m in \u001b[0;36m<module>\u001b[0;34m\u001b[0m\n\u001b[1;32m      2\u001b[0m \u001b[0;34m\u001b[0m\u001b[0m\n\u001b[1;32m      3\u001b[0m \u001b[0;32mfor\u001b[0m \u001b[0msite\u001b[0m \u001b[0;32min\u001b[0m \u001b[0mlinks\u001b[0m\u001b[0;34m[\u001b[0m\u001b[0;36m1\u001b[0m\u001b[0;34m]\u001b[0m\u001b[0;34m:\u001b[0m\u001b[0;34m\u001b[0m\u001b[0;34m\u001b[0m\u001b[0m\n\u001b[0;32m----> 4\u001b[0;31m         \u001b[0mf\u001b[0m \u001b[0;34m=\u001b[0m \u001b[0murllib\u001b[0m\u001b[0;34m.\u001b[0m\u001b[0mrequest\u001b[0m\u001b[0;34m.\u001b[0m\u001b[0murlopen\u001b[0m\u001b[0;34m(\u001b[0m\u001b[0msite\u001b[0m\u001b[0;34m)\u001b[0m\u001b[0;34m\u001b[0m\u001b[0;34m\u001b[0m\u001b[0m\n\u001b[0m\u001b[1;32m      5\u001b[0m         \u001b[0ms\u001b[0m \u001b[0;34m=\u001b[0m \u001b[0mf\u001b[0m\u001b[0;34m.\u001b[0m\u001b[0mread\u001b[0m\u001b[0;34m(\u001b[0m\u001b[0;34m)\u001b[0m\u001b[0;34m\u001b[0m\u001b[0;34m\u001b[0m\u001b[0m\n\u001b[1;32m      6\u001b[0m         \u001b[0memails\u001b[0m \u001b[0;34m=\u001b[0m \u001b[0mre\u001b[0m\u001b[0;34m.\u001b[0m\u001b[0mfindall\u001b[0m\u001b[0;34m(\u001b[0m\u001b[0;34mr\"[A-Za-z0-9._%+-]+@[A-Za-z0-9.-]+\\.[A-Za-z]{2,4}\"\u001b[0m\u001b[0;34m,\u001b[0m\u001b[0ms\u001b[0m\u001b[0;34m)\u001b[0m\u001b[0;34m\u001b[0m\u001b[0;34m\u001b[0m\u001b[0m\n",
      "\u001b[0;32m~/conda/envs/python/lib/python3.6/urllib/request.py\u001b[0m in \u001b[0;36murlopen\u001b[0;34m(url, data, timeout, cafile, capath, cadefault, context)\u001b[0m\n\u001b[1;32m    221\u001b[0m     \u001b[0;32melse\u001b[0m\u001b[0;34m:\u001b[0m\u001b[0;34m\u001b[0m\u001b[0;34m\u001b[0m\u001b[0m\n\u001b[1;32m    222\u001b[0m         \u001b[0mopener\u001b[0m \u001b[0;34m=\u001b[0m \u001b[0m_opener\u001b[0m\u001b[0;34m\u001b[0m\u001b[0;34m\u001b[0m\u001b[0m\n\u001b[0;32m--> 223\u001b[0;31m     \u001b[0;32mreturn\u001b[0m \u001b[0mopener\u001b[0m\u001b[0;34m.\u001b[0m\u001b[0mopen\u001b[0m\u001b[0;34m(\u001b[0m\u001b[0murl\u001b[0m\u001b[0;34m,\u001b[0m \u001b[0mdata\u001b[0m\u001b[0;34m,\u001b[0m \u001b[0mtimeout\u001b[0m\u001b[0;34m)\u001b[0m\u001b[0;34m\u001b[0m\u001b[0;34m\u001b[0m\u001b[0m\n\u001b[0m\u001b[1;32m    224\u001b[0m \u001b[0;34m\u001b[0m\u001b[0m\n\u001b[1;32m    225\u001b[0m \u001b[0;32mdef\u001b[0m \u001b[0minstall_opener\u001b[0m\u001b[0;34m(\u001b[0m\u001b[0mopener\u001b[0m\u001b[0;34m)\u001b[0m\u001b[0;34m:\u001b[0m\u001b[0;34m\u001b[0m\u001b[0;34m\u001b[0m\u001b[0m\n",
      "\u001b[0;32m~/conda/envs/python/lib/python3.6/urllib/request.py\u001b[0m in \u001b[0;36mopen\u001b[0;34m(self, fullurl, data, timeout)\u001b[0m\n\u001b[1;32m    509\u001b[0m         \u001b[0;31m# accept a URL or a Request object\u001b[0m\u001b[0;34m\u001b[0m\u001b[0;34m\u001b[0m\u001b[0;34m\u001b[0m\u001b[0m\n\u001b[1;32m    510\u001b[0m         \u001b[0;32mif\u001b[0m \u001b[0misinstance\u001b[0m\u001b[0;34m(\u001b[0m\u001b[0mfullurl\u001b[0m\u001b[0;34m,\u001b[0m \u001b[0mstr\u001b[0m\u001b[0;34m)\u001b[0m\u001b[0;34m:\u001b[0m\u001b[0;34m\u001b[0m\u001b[0;34m\u001b[0m\u001b[0m\n\u001b[0;32m--> 511\u001b[0;31m             \u001b[0mreq\u001b[0m \u001b[0;34m=\u001b[0m \u001b[0mRequest\u001b[0m\u001b[0;34m(\u001b[0m\u001b[0mfullurl\u001b[0m\u001b[0;34m,\u001b[0m \u001b[0mdata\u001b[0m\u001b[0;34m)\u001b[0m\u001b[0;34m\u001b[0m\u001b[0;34m\u001b[0m\u001b[0m\n\u001b[0m\u001b[1;32m    512\u001b[0m         \u001b[0;32melse\u001b[0m\u001b[0;34m:\u001b[0m\u001b[0;34m\u001b[0m\u001b[0;34m\u001b[0m\u001b[0m\n\u001b[1;32m    513\u001b[0m             \u001b[0mreq\u001b[0m \u001b[0;34m=\u001b[0m \u001b[0mfullurl\u001b[0m\u001b[0;34m\u001b[0m\u001b[0;34m\u001b[0m\u001b[0m\n",
      "\u001b[0;32m~/conda/envs/python/lib/python3.6/urllib/request.py\u001b[0m in \u001b[0;36m__init__\u001b[0;34m(self, url, data, headers, origin_req_host, unverifiable, method)\u001b[0m\n\u001b[1;32m    327\u001b[0m                  \u001b[0morigin_req_host\u001b[0m\u001b[0;34m=\u001b[0m\u001b[0;32mNone\u001b[0m\u001b[0;34m,\u001b[0m \u001b[0munverifiable\u001b[0m\u001b[0;34m=\u001b[0m\u001b[0;32mFalse\u001b[0m\u001b[0;34m,\u001b[0m\u001b[0;34m\u001b[0m\u001b[0;34m\u001b[0m\u001b[0m\n\u001b[1;32m    328\u001b[0m                  method=None):\n\u001b[0;32m--> 329\u001b[0;31m         \u001b[0mself\u001b[0m\u001b[0;34m.\u001b[0m\u001b[0mfull_url\u001b[0m \u001b[0;34m=\u001b[0m \u001b[0murl\u001b[0m\u001b[0;34m\u001b[0m\u001b[0;34m\u001b[0m\u001b[0m\n\u001b[0m\u001b[1;32m    330\u001b[0m         \u001b[0mself\u001b[0m\u001b[0;34m.\u001b[0m\u001b[0mheaders\u001b[0m \u001b[0;34m=\u001b[0m \u001b[0;34m{\u001b[0m\u001b[0;34m}\u001b[0m\u001b[0;34m\u001b[0m\u001b[0;34m\u001b[0m\u001b[0m\n\u001b[1;32m    331\u001b[0m         \u001b[0mself\u001b[0m\u001b[0;34m.\u001b[0m\u001b[0munredirected_hdrs\u001b[0m \u001b[0;34m=\u001b[0m \u001b[0;34m{\u001b[0m\u001b[0;34m}\u001b[0m\u001b[0;34m\u001b[0m\u001b[0;34m\u001b[0m\u001b[0m\n",
      "\u001b[0;32m~/conda/envs/python/lib/python3.6/urllib/request.py\u001b[0m in \u001b[0;36mfull_url\u001b[0;34m(self, url)\u001b[0m\n\u001b[1;32m    353\u001b[0m         \u001b[0mself\u001b[0m\u001b[0;34m.\u001b[0m\u001b[0m_full_url\u001b[0m \u001b[0;34m=\u001b[0m \u001b[0munwrap\u001b[0m\u001b[0;34m(\u001b[0m\u001b[0murl\u001b[0m\u001b[0;34m)\u001b[0m\u001b[0;34m\u001b[0m\u001b[0;34m\u001b[0m\u001b[0m\n\u001b[1;32m    354\u001b[0m         \u001b[0mself\u001b[0m\u001b[0;34m.\u001b[0m\u001b[0m_full_url\u001b[0m\u001b[0;34m,\u001b[0m \u001b[0mself\u001b[0m\u001b[0;34m.\u001b[0m\u001b[0mfragment\u001b[0m \u001b[0;34m=\u001b[0m \u001b[0msplittag\u001b[0m\u001b[0;34m(\u001b[0m\u001b[0mself\u001b[0m\u001b[0;34m.\u001b[0m\u001b[0m_full_url\u001b[0m\u001b[0;34m)\u001b[0m\u001b[0;34m\u001b[0m\u001b[0;34m\u001b[0m\u001b[0m\n\u001b[0;32m--> 355\u001b[0;31m         \u001b[0mself\u001b[0m\u001b[0;34m.\u001b[0m\u001b[0m_parse\u001b[0m\u001b[0;34m(\u001b[0m\u001b[0;34m)\u001b[0m\u001b[0;34m\u001b[0m\u001b[0;34m\u001b[0m\u001b[0m\n\u001b[0m\u001b[1;32m    356\u001b[0m \u001b[0;34m\u001b[0m\u001b[0m\n\u001b[1;32m    357\u001b[0m     \u001b[0;34m@\u001b[0m\u001b[0mfull_url\u001b[0m\u001b[0;34m.\u001b[0m\u001b[0mdeleter\u001b[0m\u001b[0;34m\u001b[0m\u001b[0;34m\u001b[0m\u001b[0m\n",
      "\u001b[0;32m~/conda/envs/python/lib/python3.6/urllib/request.py\u001b[0m in \u001b[0;36m_parse\u001b[0;34m(self)\u001b[0m\n\u001b[1;32m    382\u001b[0m         \u001b[0mself\u001b[0m\u001b[0;34m.\u001b[0m\u001b[0mtype\u001b[0m\u001b[0;34m,\u001b[0m \u001b[0mrest\u001b[0m \u001b[0;34m=\u001b[0m \u001b[0msplittype\u001b[0m\u001b[0;34m(\u001b[0m\u001b[0mself\u001b[0m\u001b[0;34m.\u001b[0m\u001b[0m_full_url\u001b[0m\u001b[0;34m)\u001b[0m\u001b[0;34m\u001b[0m\u001b[0;34m\u001b[0m\u001b[0m\n\u001b[1;32m    383\u001b[0m         \u001b[0;32mif\u001b[0m \u001b[0mself\u001b[0m\u001b[0;34m.\u001b[0m\u001b[0mtype\u001b[0m \u001b[0;32mis\u001b[0m \u001b[0;32mNone\u001b[0m\u001b[0;34m:\u001b[0m\u001b[0;34m\u001b[0m\u001b[0;34m\u001b[0m\u001b[0m\n\u001b[0;32m--> 384\u001b[0;31m             \u001b[0;32mraise\u001b[0m \u001b[0mValueError\u001b[0m\u001b[0;34m(\u001b[0m\u001b[0;34m\"unknown url type: %r\"\u001b[0m \u001b[0;34m%\u001b[0m \u001b[0mself\u001b[0m\u001b[0;34m.\u001b[0m\u001b[0mfull_url\u001b[0m\u001b[0;34m)\u001b[0m\u001b[0;34m\u001b[0m\u001b[0;34m\u001b[0m\u001b[0m\n\u001b[0m\u001b[1;32m    385\u001b[0m         \u001b[0mself\u001b[0m\u001b[0;34m.\u001b[0m\u001b[0mhost\u001b[0m\u001b[0;34m,\u001b[0m \u001b[0mself\u001b[0m\u001b[0;34m.\u001b[0m\u001b[0mselector\u001b[0m \u001b[0;34m=\u001b[0m \u001b[0msplithost\u001b[0m\u001b[0;34m(\u001b[0m\u001b[0mrest\u001b[0m\u001b[0;34m)\u001b[0m\u001b[0;34m\u001b[0m\u001b[0;34m\u001b[0m\u001b[0m\n\u001b[1;32m    386\u001b[0m         \u001b[0;32mif\u001b[0m \u001b[0mself\u001b[0m\u001b[0;34m.\u001b[0m\u001b[0mhost\u001b[0m\u001b[0;34m:\u001b[0m\u001b[0;34m\u001b[0m\u001b[0;34m\u001b[0m\u001b[0m\n",
      "\u001b[0;31mValueError\u001b[0m: unknown url type: 'h'"
     ]
    }
   ],
   "source": [
    "import urllib,re\n",
    "\n",
    "for site in links[1]:\n",
    "\tf = urllib.request.urlopen(site)\n",
    "\ts = f.read()\n",
    "\temails = re.findall(r\"[A-Za-z0-9._%+-]+@[A-Za-z0-9.-]+\\.[A-Za-z]{2,4}\",s)\n",
    "\tnewemails = list(set(emails))\n",
    "\tprint (newemails)"
   ]
  },
  {
   "cell_type": "code",
   "execution_count": null,
   "id": "b45f2b4b-23c2-4f3c-911d-329a42cc04f2",
   "metadata": {},
   "outputs": [],
   "source": [
    "for index,website in enumerate(all1):\n",
    "    if (\"alibaba\" in str(all1)):\n",
    "        table_index = index\n",
    "print(table_index)"
   ]
  },
  {
   "cell_type": "code",
   "execution_count": 35,
   "id": "bcc9824d-2db9-4b9e-b497-4207fcdfae4e",
   "metadata": {},
   "outputs": [
    {
     "data": {
      "text/plain": [
       "[{'info@stacksports.com'},\n",
       " {'info@stacksports.com'},\n",
       " {'info@stacksports.com'},\n",
       " {'info@stacksports.com'},\n",
       " {'info@stacksports.com'},\n",
       " {'info@stacksports.com'},\n",
       " {'info@stacksports.com'}]"
      ]
     },
     "execution_count": 35,
     "metadata": {},
     "output_type": "execute_result"
    }
   ],
   "source": [
    "emails"
   ]
  },
  {
   "cell_type": "code",
   "execution_count": 44,
   "id": "ffe18ef2-7f64-4a1f-a61f-5742c5814b3b",
   "metadata": {},
   "outputs": [
    {
     "data": {
      "text/plain": [
       "{'https://www.industryventures.com/investments/': {'debbie.mitchell@cardinalhealth.com',\n",
       "  'info@industryventures.com',\n",
       "  'sally.curley@cardinalhealth.com'}}"
      ]
     },
     "execution_count": 44,
     "metadata": {},
     "output_type": "execute_result"
    }
   ],
   "source": []
  },
  {
   "cell_type": "code",
   "execution_count": 64,
   "id": "19b123c4-e2a8-47db-adc5-ccee52f04467",
   "metadata": {},
   "outputs": [
    {
     "data": {
      "text/plain": [
       "{'https://www.appdynamics.com/': {'abajpai@appdynamics.com',\n",
       "  'alakshya.m@gmail.com',\n",
       "  'appdx-dev@appdynamics.com',\n",
       "  'ashish.singh@appdynamics.com',\n",
       "  'bhuvnesh.kumar@appdynamics.com',\n",
       "  'daniel.odievich@appdynamics.com',\n",
       "  'israel.ogbole@appdynamics.com',\n",
       "  'lee.spacagna@appdynamics.com',\n",
       "  'michael.englert@appdynamics.com',\n",
       "  'pradeep.nair@appdynamics.com',\n",
       "  'stuart.greenshields@appdynamics.com',\n",
       "  'uitest@appdynamics.com',\n",
       "  'welcome_email_bcclist@appdynamics.com'}}"
      ]
     },
     "execution_count": 64,
     "metadata": {},
     "output_type": "execute_result"
    }
   ],
   "source": [
    "emdict"
   ]
  },
  {
   "cell_type": "code",
   "execution_count": 112,
   "id": "6ab297b5-6c34-4c8c-b160-714c2638adfb",
   "metadata": {},
   "outputs": [
    {
     "data": {
      "text/plain": [
       "['https://www.ancestry.com/',\n",
       " 'http://colcap.com/',\n",
       " 'http://medeanalytics.com/',\n",
       " 'https://www.broadsoft.com/',\n",
       " 'http://www.spectranetics.com/',\n",
       " 'https://lowercasecapital.com/',\n",
       " 'www.clariphy.com',\n",
       " 'http://elliemae.com/',\n",
       " 'http://www.stephensim.com/',\n",
       " 'http://www.enanta.com/',\n",
       " 'http://www.oracle.com/us/solutions/social/vitrue/index.html',\n",
       " 'http://www.ftvcapital.com/',\n",
       " 'https://www.lifelock.com/']"
      ]
     },
     "execution_count": 112,
     "metadata": {},
     "output_type": "execute_result"
    }
   ],
   "source": [
    "thelink = links[52:65]\n",
    "thelink"
   ]
  },
  {
   "cell_type": "code",
   "execution_count": null,
   "id": "8652e6dd-ea67-4928-88a3-1673260ffe2b",
   "metadata": {},
   "outputs": [],
   "source": [
    "for i in xrange(0,960):\n",
    "    try:\n",
    "        ... run your code\n",
    "    except:\n",
    "        pass"
   ]
  },
  {
   "cell_type": "code",
   "execution_count": 113,
   "id": "c8649107-6ad2-4785-a742-0256c385c02d",
   "metadata": {
    "tags": []
   },
   "outputs": [
    {
     "name": "stdout",
     "output_type": "stream",
     "text": [
      "Crawling URL https://www.ancestry.com/\n",
      "set()\n",
      "Crawling URL https://www.ancestry.com\n",
      "set()\n",
      "Crawling URL https://www.ancestry.com/cs/ancestry-family\n",
      "set()\n",
      "Crawling URL https://www.ancestry.com/dna/\n",
      "set()\n",
      "Crawling URL https://www.ancestry.com/cs/offers/freetrial\n",
      "set()\n",
      "Crawling URL https://www.ancestry.com/account/signin?signUpReturnUrl=https://www.ancestry.com%2Fcs%2Foffers%2Fsubscribe%3Fsub%3D1\n",
      "set()\n",
      "Crawling URL https://www.ancestry.com/dna\n",
      "set()\n",
      "Crawling URL https://www.ancestry.com/cs/heidi\n",
      "set()\n",
      "Crawling URL https://www.ancestry.com/learn/facts\n",
      "set()\n",
      "Crawling URL https://www.ancestry.com/genealogy/records\n",
      "set()\n",
      "Crawling URL https://www.ancestry.com/genealogy\n",
      "set()\n",
      "Crawling URL https://www.ancestry.com/search/collections/7545/\n",
      "set()\n",
      "Crawling URL https://www.ancestry.com/cs/history/womens-suffrage\n",
      "set()\n",
      "Crawling URL https://www.ancestry.com/search/categories/34/\n",
      "set()\n",
      "Crawling URL https://www.ancestry.com/search/categories/35/\n",
      "set()\n",
      "Crawling URL https://www.ancestry.com/search/categories/39/\n",
      "set()\n",
      "Crawling URL https://www.ancestry.com/search/\n",
      "set()\n",
      "Crawling URL https://www.ancestry.com/family-tree/\n",
      "set()\n",
      "Crawling URL https://www.ancestry.com/cs/charts-and-forms\n",
      "set()\n",
      "Crawling URL https://www.ancestry.com/search/collections/1030/\n",
      "set()\n",
      "Crawling URL https://www.ancestry.com/cs/#skipped-nav\n",
      "Crawling URL https://www.ancestry.com/family-tree/tree/\n",
      "set()\n",
      "Crawling URL https://www.ancestry.com/health\n",
      "set()\n",
      "Crawling URL https://support.ancestry.com/s/\n",
      "set()\n",
      "Crawling URL https://www.ancestry.com/cs/cs/apps/allproducts\n",
      "set()\n",
      "Crawling URL https://www.ancestry.com/cs/offers/subscribe\n",
      "set()\n",
      "Crawling URL https://www.ancestry.com/account/signin?returnUrl=http://www.ancestry.com/cs/ancestry-family\n",
      "set()\n",
      "Crawling URL https://www.ancestry.com/family-history/learning-hub\n",
      "set()\n",
      "Crawling URL https://www.ancestry.com/family-tree/tree\n",
      "set()\n",
      "Crawling URL https://www.ancestry.com/begin/family-tree\n",
      "set()\n",
      "Crawling URL https://www.ancestry.com/family-tree/pt/uploadfile.aspx\n",
      "set()\n",
      "Crawling URL https://www.ancestry.com/search/categories/40/\n",
      "set()\n",
      "Crawling URL https://www.ancestry.com/search/collections/pubmembertrees/\n",
      "set()\n",
      "Crawling URL https://www.ancestry.com/search/collections/catalog\n",
      "set()\n",
      "Crawling URL https://www.ancestry.com/community/membersearch\n",
      "set()\n",
      "Crawling URL https://www.ancestry.com/dna/activate\n",
      "set()\n",
      "Crawling URL https://www.ancestry.com/dna/lp/learning-hub\n",
      "set()\n",
      "Crawling URL https://www.ancestry.com/dna/lp/what-to-expect-ancestrydna-test\n",
      "set()\n",
      "Crawling URL https://www.ancestry.com/dna/lp/dna-family-tree\n",
      "set()\n",
      "Crawling URL https://www.ancestry.com/dna/lp/how-does-ancestrydna-work\n",
      "set()\n",
      "Crawling URL https://www.ancestry.com/health/reports\n",
      "set()\n",
      "Crawling URL https://www.ancestry.com/health/next-generation-sequencing\n",
      "set()\n",
      "Crawling URL https://www.ancestry.com/health/family-health-history\n",
      "set()\n",
      "Crawling URL https://www.ancestry.com/health/genetic-counselors\n",
      "set()\n",
      "Crawling URL https://www.ancestry.com/health/variants\n",
      "set()\n",
      "Crawling URL https://www.ancestry.com/healthcare-providers\n",
      "set()\n",
      "Crawling URL https://www.ancestry.com/cs/legal/health-privacy\n",
      "{'dpo@ancestry.com'}\n",
      "Crawling URL http://colcap.com/\n",
      "set()\n",
      "Crawling URL https://colcap.com/\n",
      "set()\n",
      "Crawling URL https://colcap.com/our-team/\n",
      "set()\n",
      "Crawling URL https://colcap.com/about/\n",
      "set()\n",
      "Crawling URL https://colcap.com/our-strategy/\n",
      "set()\n",
      "Crawling URL https://colcap.com/our-portfolio/\n",
      "set()\n",
      "Crawling URL https://colcap.com/all-investments/\n",
      "set()\n",
      "Crawling URL https://colcap.com/contact/\n",
      "set()\n",
      "Crawling URL https://dynamo3.netagesolutions.com/Portal/Login/Columbia_Capital/VC-Investors/\n"
     ]
    },
    {
     "name": "stderr",
     "output_type": "stream",
     "text": [
      "WARNING:urllib3.connectionpool:Failed to parse headers (url=https://dynamo.dynamosoftware.com:443/tenant/dynamo3.netagesolutions.com/Columbia_Capital/VC-Investors): [MissingHeaderBodySeparatorDefect()], unparsed data: \"content-security-policy : frame-ancestors 'self' https://outlook.office365.com https://outlook.office.com;\\r\\nDate: Sun, 27 Jun 2021 19:35:05 GMT\\r\\n\\r\\n\"\n",
      "Traceback (most recent call last):\n",
      "  File \"/home/jupyterlab/conda/envs/python/lib/python3.6/site-packages/urllib3/connectionpool.py\", line 465, in _make_request\n",
      "    assert_header_parsing(httplib_response.msg)\n",
      "  File \"/home/jupyterlab/conda/envs/python/lib/python3.6/site-packages/urllib3/util/response.py\", line 91, in assert_header_parsing\n",
      "    raise HeaderParsingError(defects=defects, unparsed_data=unparsed_data)\n",
      "urllib3.exceptions.HeaderParsingError: [MissingHeaderBodySeparatorDefect()], unparsed data: \"content-security-policy : frame-ancestors 'self' https://outlook.office365.com https://outlook.office.com;\\r\\nDate: Sun, 27 Jun 2021 19:35:05 GMT\\r\\n\\r\\n\"\n"
     ]
    },
    {
     "name": "stdout",
     "output_type": "stream",
     "text": [
      "set()\n",
      "Crawling URL http://colcap.com/all-investments\n",
      "set()\n",
      "Crawling URL http://colcap.com/our-portfolio\n",
      "set()\n",
      "Crawling URL https://colcap.com/terms-and-conditions/\n",
      "set()\n",
      "Crawling URL https://colcap.com/all-investments\n",
      "set()\n",
      "Crawling URL https://colcap.com/our-portfolio\n",
      "set()\n",
      "Crawling URL https://colcap.com/sectors\n",
      "set()\n",
      "Crawling URL http://www.2ndwatch.com\n",
      "{'info@2ndwatch.com'}\n",
      "Crawling URL http://medeanalytics.com/\n",
      "set()\n",
      "Crawling URL https://www.broadsoft.com/\n",
      "set()\n",
      "Crawling URL https://www.broadsoft.com/#fw-content\n",
      "set()\n",
      "Crawling URL https://www.broadsoft.com/#fw-footer\n",
      "set()\n",
      "Crawling URL https://www.broadsoft.com/c/en/us/index.html\n",
      "set()\n",
      "Crawling URL https://www.broadsoft.com/c/login/index.html?referer=/c/en/us/solutions/collaboration/index.html\n",
      "set()\n",
      "Crawling URL https://id.cisco.com/signin/forgot-password\n",
      "{'web-help@cisco.com', 'web-help-j@cisco.com'}\n",
      "Crawling URL https://www.broadsoft.com//www.cisco.com/c/en/us/about/account.html\n",
      "{'web-help@cisco.com', 'web-help-j@cisco.com'}\n",
      "Crawling URL https://id.cisco.com/signin/register\n",
      "{'web-help@cisco.com', 'web-help-j@cisco.com'}\n",
      "Crawling URL http://www.spectranetics.com/\n",
      "set()\n",
      "Crawling URL https://www.philips.com/a-w/about/news/archive/standard/news/press/2017/20170809-philips-completes-acquisition-of-the-spectranetics-corporation.html\n",
      "{'ksenija.gonciarenko@philips.com', 'Investor.relations@spnc.com', 'ben.zwirs@philips.com'}\n",
      "Crawling URL https://lowercasecapital.com/\n",
      "set()\n",
      "Crawling URL https://lowercasecapital.com/#content\n",
      "set()\n",
      "Crawling URL https://lowercasecapital.com/outfit/\n",
      "set()\n",
      "Crawling URL https://lowercasecapital.com/chris-sacca/\n",
      "set()\n",
      "Crawling URL https://lowercasecapital.com/posse/\n",
      "set()\n",
      "Crawling URL https://lowercasecapital.com/dispatches/\n",
      "set()\n",
      "Crawling URL https://lowercasecapital.com/2017/04/26/hanging-up-my-spurs/\n",
      "set()\n",
      "Crawling URL https://lowercasecapital.com/2016/05/10/and-for-that-reason-im-in/\n",
      "set()\n",
      "Crawling URL https://lowercasecapital.com/2015/07/20/you-have-a-deal/\n",
      "set()\n",
      "Crawling URL https://lowercasecapital.com/2015/06/18/what-twitter-says-and-what-we-hear/\n",
      "set()\n",
      "Crawling URL https://lowercasecapital.com/2015/06/03/what-twitter-can-be-2/\n",
      "set()\n",
      "Crawling URL https://wordpress.org/\n",
      "set()\n",
      "Crawling URL https://lowercasecapital.com/outfit/#content\n",
      "set()\n",
      "Crawling URL https://www.gq.com/gallery/worst-dressed-men-silicon-valley-mark-zuckerberg\n",
      "{'u002F01670db7f463402085dc9e319887ec36@sentry.io'}\n",
      "Crawling URL www.clariphy.com\n",
      "Crawling URL http://elliemae.com/\n",
      "{'customer-gold-star@2x.png', 'roi-cards-graphic@2x.png', 'customer-chemical-bank@2x.png', 'customer-waterstone@2x.png', 'customer-first-american@2x.png', 'roi-cards-graphic@3x.png', 'customer-direct-mortgage@2x.png', 'customer-jgwentworth@2x.png', 'customer-leaderone@2x.png', 'customer-truhome@2x.png', 'customer-alcova@2x.png', 'customer-prmi@2x.png', 'customer-lennar-mortgage@2x.png', 'roi-stats@3x.png', 'customer-academy@2x.png', 'roi-stats@2x.png'}\n",
      "Crawling URL http://www.stephensim.com/\n",
      "set()\n",
      "Crawling URL http://www.enanta.com/\n",
      "set()\n",
      "Crawling URL http://www.enanta.com/javascript:__doPostBack('lnkPostback','')\n",
      "set()\n",
      "Crawling URL http://www.enanta.com/#maincontent\n",
      "set()\n",
      "Crawling URL http://www.enanta.com/Home/default.aspx\n",
      "set()\n",
      "Crawling URL http://www.enanta.com/about/about-enanta/default.aspx\n",
      "set()\n",
      "Crawling URL http://www.enanta.com/about/management-team/default.aspx\n",
      "set()\n",
      "Crawling URL http://www.enanta.com/about/board-of-directors/default.aspx\n",
      "set()\n",
      "Crawling URL http://www.enanta.com/about/contact-us/default.aspx\n",
      "{'info@enanta.com'}\n",
      "Crawling URL http://www.enanta.com/research/research-and-development/default.aspx\n",
      "{'info@enanta.com'}\n",
      "Crawling URL http://www.enanta.com/research/hbv/default.aspx\n",
      "{'info@enanta.com'}\n",
      "Crawling URL http://www.enanta.com/research/nash/default.aspx\n",
      "{'info@enanta.com'}\n",
      "Crawling URL http://www.enanta.com/research/rsv/default.aspx\n",
      "{'info@enanta.com'}\n",
      "Crawling URL http://www.oracle.com/us/solutions/social/vitrue/index.html\n",
      "set()\n",
      "Crawling URL http://www.oracle.com/us/solutions/social/vitrue/\n",
      "set()\n",
      "Crawling URL http://www.oracle.com/\n",
      "set()\n",
      "Crawling URL http://www.oracle.com/us/solutions/social/vitrue/#maincontent\n",
      "set()\n",
      "Crawling URL http://www.oracle.com/us/solutions/social/vitrue/#skip_to_search_form\n",
      "set()\n",
      "Crawling URL https://www.oracle.com\n",
      "set()\n",
      "Crawling URL http://www.oracle.com//www.oracle.com/us/assets/UNIVERSAL-MENUCONTENT\n",
      "set()\n",
      "Crawling URL http://www.oracle.com/us/solutions/social/vitrue/#usermenu\n",
      "set()\n",
      "Crawling URL https://profile.oracle.com/myprofile/account/secure/update-account.jspx?nexturl=\n",
      "set()\n",
      "Crawling URL https://www.oracle.com/corporate/contact/help.html\n",
      "{'oracle-acct_ww@oracle.com'}\n",
      "Crawling URL http://www.oracle.com/us/solutions/social/vitrue/javascript:sso_sign_out();\n",
      "{'oracle-acct_ww@oracle.com'}\n",
      "Crawling URL http://www.ftvcapital.com/\n",
      "set()\n",
      "Crawling URL https://www.lifelock.com/\n",
      "{'t_bnr_dog_window_room_V2_768x580@2x.jpg', 'icon_home_title_60x60@2x.png', 'm_bnr_dog_window_room_V2_375x499@2x.jpg', 'icon_privacy_monitor_60x60@2x.png', 'icon_credit_lock_60x60@2x.png'}\n"
     ]
    }
   ],
   "source": [
    "import re\n",
    "import requests\n",
    "import requests.exceptions\n",
    "from urllib.parse import urlsplit\n",
    "from collections import deque\n",
    "from bs4 import BeautifulSoup\n",
    "\n",
    "emdict = {}\n",
    "for element in (thelink): \n",
    "    # starting url. replace google with your own url.\n",
    "    starting_url = element\n",
    "    try:\n",
    "        \n",
    "\n",
    "\n",
    "        # a queue of urls to be crawled\n",
    "        unprocessed_urls = deque([starting_url])\n",
    "\n",
    "        # set of already crawled urls for email\n",
    "        processed_urls = set()\n",
    "\n",
    "        # a set of fetched emails\n",
    "        emails = set()\n",
    "\n",
    "        # process urls one by one from unprocessed_url queue until queue is empty\n",
    "        while len(unprocessed_urls) & len(emails) < 1:\n",
    "\n",
    "            # move next url from the queue to the set of processed urls\n",
    "            url = unprocessed_urls.popleft()\n",
    "            processed_urls.add(url)\n",
    "\n",
    "            # extract base url to resolve relative links\n",
    "            parts = urlsplit(url)\n",
    "            base_url = \"{0.scheme}://{0.netloc}\".format(parts)\n",
    "            path = url[:url.rfind('/')+1] if '/' in parts.path else url\n",
    "\n",
    "            # get url's content\n",
    "            print(\"Crawling URL %s\" % url)\n",
    "            try:\n",
    "                response = requests.get(url)\n",
    "            except (requests.exceptions.MissingSchema, requests.exceptions.ConnectionError):\n",
    "                # ignore pages with errors and continue with next url\n",
    "                continue\n",
    "\n",
    "            # extract all email addresses and add them into the resulting set\n",
    "            # You may edit the regular expression as per your requirement\n",
    "            new_emails = set(re.findall(r\"[a-z0-9\\.\\-+_]+@[a-z0-9\\.\\-+_]+\\.[a-z]+\", response.text, re.I))\n",
    "            emails.update(new_emails)\n",
    "            print(emails)\n",
    "            # create a beutiful soup for the html document\n",
    "            soup = BeautifulSoup(response.text, 'lxml')\n",
    "\n",
    "            # Once this document is parsed and processed, now find and process all the anchors i.e. linked urls in this document\n",
    "            for anchor in soup.find_all(\"a\"):\n",
    "                # extract link url from the anchor\n",
    "                link = anchor.attrs[\"href\"] if \"href\" in anchor.attrs else ''\n",
    "                # resolve relative links (starting with /)\n",
    "                if link.startswith('/'):\n",
    "                    link = base_url + link\n",
    "                elif not link.startswith('http'):\n",
    "                    link = path + link\n",
    "                # add the new url to the queue if it was not in unprocessed list nor in processed list yet\n",
    "                if not link in unprocessed_urls and not link in processed_urls:\n",
    "                    unprocessed_urls.append(link)\n",
    "            emdict[starting_url]=emails\n",
    "    except:\n",
    "        pass"
   ]
  },
  {
   "cell_type": "code",
   "execution_count": 101,
   "id": "0a82fd9f-cfa7-4352-a088-f83b6f593ed2",
   "metadata": {},
   "outputs": [
    {
     "data": {
      "text/plain": [
       "{'https://www.appdynamics.com/': {'abajpai@appdynamics.com',\n",
       "  'alakshya.m@gmail.com',\n",
       "  'appdx-dev@appdynamics.com',\n",
       "  'ashish.singh@appdynamics.com',\n",
       "  'bhuvnesh.kumar@appdynamics.com',\n",
       "  'daniel.odievich@appdynamics.com',\n",
       "  'israel.ogbole@appdynamics.com',\n",
       "  'lee.spacagna@appdynamics.com',\n",
       "  'michael.englert@appdynamics.com',\n",
       "  'pradeep.nair@appdynamics.com',\n",
       "  'stuart.greenshields@appdynamics.com',\n",
       "  'uitest@appdynamics.com',\n",
       "  'welcome_email_bcclist@appdynamics.com'},\n",
       " 'http://www.waldenvc.com': {'info@dataprotection.ie',\n",
       "  'privacy@squarespace.com'}}"
      ]
     },
     "execution_count": 101,
     "metadata": {},
     "output_type": "execute_result"
    }
   ],
   "source": [
    "emdict"
   ]
  },
  {
   "cell_type": "code",
   "execution_count": null,
   "id": "fff31bc3-f9d8-456e-bb55-36d82457bdad",
   "metadata": {},
   "outputs": [],
   "source": []
  }
 ],
 "metadata": {
  "kernelspec": {
   "display_name": "Python",
   "language": "python",
   "name": "conda-env-python-py"
  },
  "language_info": {
   "codemirror_mode": {
    "name": "ipython",
    "version": 3
   },
   "file_extension": ".py",
   "mimetype": "text/x-python",
   "name": "python",
   "nbconvert_exporter": "python",
   "pygments_lexer": "ipython3",
   "version": "3.6.13"
  }
 },
 "nbformat": 4,
 "nbformat_minor": 5
}
